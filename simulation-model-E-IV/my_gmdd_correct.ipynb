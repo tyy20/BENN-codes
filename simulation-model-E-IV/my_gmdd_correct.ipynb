{
 "cells": [
  {
   "cell_type": "code",
   "execution_count": 1,
   "id": "15d2086f",
   "metadata": {},
   "outputs": [
    {
     "name": "stderr",
     "output_type": "stream",
     "text": [
      "[rank: 0] Global seed set to 42\n"
     ]
    }
   ],
   "source": [
    "import torch, time, dcor, copy, scipy, os\n",
    "import numpy as np\n",
    "#import rpy2.robjects as robjects\n",
    "import matplotlib.pyplot as plt\n",
    "from scipy.stats import multivariate_normal, multivariate_t, uniform, beta, poisson\n",
    "from torch import nn\n",
    "from scipy.spatial.distance import cdist\n",
    "from sklearn.model_selection import train_test_split\n",
    "from scipy.linalg import eig\n",
    "from NSDR import NSDR\n",
    "from plotutils import cum_plot, prop_plot\n",
    "#from rpy2.robjects import r, numpy2ri\n",
    "from sklearn.preprocessing import OneHotEncoder\n",
    "#from rpy2.robjects.packages import importr\n",
    "#importr(\"nsdr\")\n",
    "#%load_ext rpy2.ipython\n",
    "import argparse\n",
    "import pandas as pd\n",
    "from time import process_time\n",
    "\n",
    "from pytorch_lightning import seed_everything\n",
    "seed_everything(42, workers=True)\n",
    "torch.use_deterministic_algorithms(True, warn_only=True)"
   ]
  },
  {
   "cell_type": "code",
   "execution_count": 2,
   "id": "51192961",
   "metadata": {},
   "outputs": [],
   "source": [
    "def sigmoid(x):\n",
    "    return 1 / (1 + np.exp(-x))\n",
    "\n",
    "\n",
    "\n",
    "    return train_test_split(x, y, test_size=test_size)\n",
    "                \n",
    "def init_xv_uniform(m):\n",
    "    if type(m) == nn.Linear:\n",
    "        nn.init.xavier_uniform_(m.weight)\n",
    "        nn.init.zeros_(m.bias)\n",
    "    \n",
    "def index_convertion(max_num_list, current_list):\n",
    "    max_num = list(max_num_list)\n",
    "    current = list(current_list)\n",
    "    assert len(max_num) == len(current)\n",
    "    idx = 0\n",
    "    prod = 1\n",
    "    for i in list(range(len(max_num)))[::-1]: ## reversee the oder\n",
    "        idx = idx + current_list[i] * prod\n",
    "        prod = prod * max_num_list[i]\n",
    "    return idx\n",
    "\n",
    "    "
   ]
  },
  {
   "cell_type": "code",
   "execution_count": 3,
   "id": "b196497f",
   "metadata": {},
   "outputs": [],
   "source": [
    "#rep_num = 100\n",
    "#y_mode_num = 6 ##number of generalized distance\n",
    "#n = 1000 # training size + test size\n",
    "#p = 50\n",
    "#d = 2\n",
    "\n",
    "\n",
    "iter_num = 100\n",
    "batch_size = 100 # p * 10"
   ]
  },
  {
   "cell_type": "code",
   "execution_count": 4,
   "id": "3a427578-974b-48aa-89dc-1ef4521f4334",
   "metadata": {},
   "outputs": [
    {
     "name": "stdout",
     "output_type": "stream",
     "text": [
      "4 1 1000 2 3\n"
     ]
    }
   ],
   "source": [
    "parser = argparse.ArgumentParser(description=\"Running GMDD\")\n",
    "parser.add_argument('--model1', default=4, type = int, help = 'model1')\n",
    "parser.add_argument('--model2', default=1, type = int, help = 'model2')\n",
    "parser.add_argument('--n', default=1000, type = int, help = 'n')\n",
    "parser.add_argument('--d', default=2, type = int, help = 'd')\n",
    "parser.add_argument('--t', default=3, type = int, help = 't')\n",
    "args = parser.parse_args()\n",
    "model1 = args.model1\n",
    "model2 = args.model2\n",
    "n = args.n\n",
    "res_d = args.d\n",
    "t = args.t\n",
    "print(model1, model2, n, res_d, t)"
   ]
  },
  {
   "cell_type": "code",
   "execution_count": 19,
   "id": "dd963c49-7a9c-490d-82db-55a61c2bd291",
   "metadata": {},
   "outputs": [],
   "source": [
    "x_train=pd.read_csv(\"./data/model\" + str(model1) + \"-\" + str(model2) + \"-\" + str(n) + \"/x_train_\" + str(t) + \".csv\")\n",
    "x_train=x_train.drop('Unnamed: 0', axis=1)\n",
    "y_train=pd.read_csv(\"./data/model\" + str(model1) + \"-\" + str(model2) + \"-\" + str(n) + \"/y_train_\" + str(t) + \".csv\")\n",
    "y_train=y_train.drop('Unnamed: 0', axis=1)\n",
    "x_test=pd.read_csv(\"./data/model\" + str(model1) + \"-\" + str(model2) + \"-\" + str(n) + \"/x_test_\" + str(t) + \".csv\")\n",
    "x_test=x_test.drop('Unnamed: 0', axis=1)\n",
    "y_test=pd.read_csv(\"./data/model\" + str(model1) + \"-\" + str(model2) + \"-\" + str(n) + \"/y_test_\" + str(t) + \".csv\")\n",
    "y_test=y_test.drop('Unnamed: 0', axis=1)\n",
    "z_test=pd.read_csv(\"./data/model\" + str(model1) + \"-\" + str(model2) + \"-\" + str(n) + \"/z_test_\" + str(t) + \".csv\")\n",
    "z_test=z_test.drop('Unnamed: 0', axis=1)\n",
    "y_train_original=y_train\n",
    "y_test_original=y_test"
   ]
  },
  {
   "cell_type": "code",
   "execution_count": 20,
   "id": "62ed2a2d-12d1-46bd-aef1-3e5312a2ea01",
   "metadata": {},
   "outputs": [],
   "source": [
    "directory=\"./results-GMDD-correct/result-\" + str(model1) + \"-\" + str(model2) + \"-\" + str(n)\n",
    "if not os.path.exists(directory):\n",
    "    os.makedirs(directory)"
   ]
  },
  {
   "cell_type": "code",
   "execution_count": 21,
   "id": "095306b6-4a0e-4a90-a3aa-aa021fc0bb52",
   "metadata": {},
   "outputs": [],
   "source": [
    "x_train=x_train.to_numpy()\n",
    "y_train=y_train.to_numpy()\n",
    "x_test=x_test.to_numpy()\n",
    "y_test=y_test.to_numpy()\n",
    "z_test=z_test.to_numpy()\n",
    "n=x_train.shape[0]\n",
    "p=x_train.shape[1]"
   ]
  },
  {
   "cell_type": "code",
   "execution_count": 22,
   "id": "73ebc9e2-f083-4d5f-a725-c74f2a908043",
   "metadata": {},
   "outputs": [],
   "source": [
    "t1_start = time.time() \n",
    "t2_start = process_time()"
   ]
  },
  {
   "cell_type": "code",
   "execution_count": 23,
   "id": "a5162852-c0c0-451d-a6de-99908952e5d9",
   "metadata": {},
   "outputs": [
    {
     "name": "stderr",
     "output_type": "stream",
     "text": [
      "/storage/home/yqt5219/.conda/envs/torch_env/lib/python3.11/site-packages/dcor/_fast_dcov_avl.py:554: UserWarning: Falling back to uncompiled AVL fast distance covariance terms because of TypeError exception raised: No matching definition for argument type(s) array(float32, 1d, C), array(float32, 1d, C), bool. Rembember: only floating point values can be used in the compiled implementations.\n",
      "  warnings.warn(\n"
     ]
    }
   ],
   "source": [
    "\n",
    "net_seq = NSDR().generate_default_net(p)\n",
    "net_seq.apply(init_xv_uniform)\n",
    "\n",
    "model = NSDR(neural_network=net_seq, max_dim=res_d, method = \"seq\", adaptive_cv=False, \n",
    "             retrain = True, early_stop=False ,debug=False, device=\"cpu\", \n",
    "             categorical_y = False, iter_num=iter_num, y_mode=0)\n",
    "start_time = time.time()\n",
    "model.fit(x_train, y_train)\n",
    "y_suff_test=model.transform(x_test)\n",
    "\n"
   ]
  },
  {
   "cell_type": "code",
   "execution_count": null,
   "id": "9926c0b0-69df-4fcc-93e6-c0f2129bae59",
   "metadata": {},
   "outputs": [],
   "source": [
    "\n",
    "t1_stop = time.time() \n",
    "t2_stop = process_time()\n",
    "\n"
   ]
  },
  {
   "cell_type": "code",
   "execution_count": null,
   "id": "f03e8b1e-47ed-4e87-8f42-d7c322f1bb10",
   "metadata": {},
   "outputs": [],
   "source": [
    "\n",
    "y_suff_test_df=pd.DataFrame(y_suff_test)\n",
    "y_suff_test_df.to_csv(\"./results-GMDD-correct/result-\" + str(model1) + \"-\" + str(model2)  + \"-\" + str(n) + \"/y_suff_\" + str(t) + \".csv\")\n"
   ]
  },
  {
   "cell_type": "code",
   "execution_count": null,
   "id": "d66ceaf7-1799-4648-a7d6-a2f84ae8aac0",
   "metadata": {},
   "outputs": [],
   "source": [
    "time_use=[t1_stop-t1_start,t2_stop-t2_start]\n",
    "time_use_df=pd.DataFrame(time_use)\n",
    "time_use_df.to_csv(\"./results-GMDD-correct/result-\" + str(model1) + \"-\" + str(model2) + \"-\" + str(n) + \"/time_\" + str(t) + \".csv\")\n"
   ]
  },
  {
   "cell_type": "code",
   "execution_count": null,
   "id": "4dfb1347-f9db-4b6e-9c88-b25f2d2918a0",
   "metadata": {},
   "outputs": [],
   "source": []
  },
  {
   "cell_type": "code",
   "execution_count": null,
   "id": "1614c10d-670f-4c18-9fa8-999be12aae45",
   "metadata": {},
   "outputs": [],
   "source": []
  }
 ],
 "metadata": {
  "kernelspec": {
   "display_name": "PyTorch_conda",
   "language": "python",
   "name": "torch_env"
  },
  "language_info": {
   "codemirror_mode": {
    "name": "ipython",
    "version": 3
   },
   "file_extension": ".py",
   "mimetype": "text/x-python",
   "name": "python",
   "nbconvert_exporter": "python",
   "pygments_lexer": "ipython3",
   "version": "3.11.5"
  },
  "toc": {
   "base_numbering": 1,
   "nav_menu": {},
   "number_sections": true,
   "sideBar": true,
   "skip_h1_title": false,
   "title_cell": "Table of Contents",
   "title_sidebar": "Contents",
   "toc_cell": false,
   "toc_position": {},
   "toc_section_display": true,
   "toc_window_display": false
  }
 },
 "nbformat": 4,
 "nbformat_minor": 5
}
