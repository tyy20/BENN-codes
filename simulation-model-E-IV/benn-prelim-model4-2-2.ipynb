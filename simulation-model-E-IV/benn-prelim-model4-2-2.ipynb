{
 "cells": [
  {
   "cell_type": "code",
   "execution_count": 1,
   "id": "0a7484cc-6b31-4d27-b17b-b3a89569d6e6",
   "metadata": {},
   "outputs": [
    {
     "name": "stderr",
     "output_type": "stream",
     "text": [
      "[rank: 0] Global seed set to 42\n"
     ]
    }
   ],
   "source": [
    "import numpy as np\n",
    "import pandas as pd\n",
    "import math\n",
    "\n",
    "import torch\n",
    "import matplotlib.pyplot as plt\n",
    "from sklearn.model_selection import train_test_split\n",
    "\n",
    "from pytorch_lightning import seed_everything\n",
    "seed_everything(42, workers=True)\n",
    "torch.use_deterministic_algorithms(True, warn_only=True)\n",
    "\n",
    "\n",
    "import dcor\n",
    "\n",
    "from datetime import datetime\n",
    "\n",
    "from torch import nn\n",
    "\n",
    "import argparse\n",
    "\n",
    "import os \n",
    "\n"
   ]
  },
  {
   "cell_type": "code",
   "execution_count": 2,
   "id": "d636a47a-cebf-438a-b29b-ba467c0900eb",
   "metadata": {},
   "outputs": [
    {
     "name": "stdout",
     "output_type": "stream",
     "text": [
      "4 2 5000 2 2 2 50 100 1 1\n"
     ]
    }
   ],
   "source": [
    "parser = argparse.ArgumentParser(description=\"Running BENN\")\n",
    "parser.add_argument('--model1', default=4, type = int, help = 'model1')\n",
    "parser.add_argument('--model2', default=2, type = int, help = 'model2')\n",
    "parser.add_argument('--n', default=5000, type = int, help = 'n')\n",
    "parser.add_argument('--m', default=2, type = int, help = 'm')\n",
    "parser.add_argument('--l1', default=2, type = int, help = 'l1')\n",
    "parser.add_argument('--l2', default=2, type = int, help = 'l2')\n",
    "parser.add_argument('--r1', default=50, type = int, help = 'r1')\n",
    "parser.add_argument('--r2', default=100, type = int, help = 'r2')\n",
    "parser.add_argument('--d', default=1, type = int, help = 'd')\n",
    "parser.add_argument('--t', default=1, type = int, help = 't')\n",
    "args = parser.parse_args([])\n",
    "model1 = args.model1\n",
    "model2 = args.model2\n",
    "n = args.n\n",
    "m = args.m\n",
    "l1 = args.l1\n",
    "l2 = args.l2\n",
    "r1 = args.r1\n",
    "r2 = args.r2\n",
    "res_d = args.d\n",
    "t = args.t\n",
    "print(model1, model2, n, m, l1, l2, r1, r2, res_d, t)"
   ]
  },
  {
   "cell_type": "code",
   "execution_count": 3,
   "id": "50359073-4520-42d2-bcc6-63ce3e3ca145",
   "metadata": {},
   "outputs": [
    {
     "data": {
      "text/plain": [
       "'cpu'"
      ]
     },
     "execution_count": 3,
     "metadata": {},
     "output_type": "execute_result"
    }
   ],
   "source": [
    "# Create device agnostic code\n",
    "device = \"cuda\" if torch.cuda.is_available() else \"cpu\"\n",
    "device"
   ]
  },
  {
   "cell_type": "code",
   "execution_count": 4,
   "id": "d1fd3b09-e12c-4172-973e-11a56a2d1d38",
   "metadata": {},
   "outputs": [],
   "source": [
    "#plt.plot(y_trans_train[:,0], y_trans_train[:,1], 'o', color=\"C0\")"
   ]
  },
  {
   "cell_type": "code",
   "execution_count": 5,
   "id": "104928d9-de5e-497b-8ee8-4c99e5b8e1f0",
   "metadata": {},
   "outputs": [],
   "source": [
    "#z_test[0,:]"
   ]
  },
  {
   "cell_type": "code",
   "execution_count": 6,
   "id": "3e0c665f-c218-4553-96f8-80fd29f1114e",
   "metadata": {},
   "outputs": [
    {
     "name": "stdout",
     "output_type": "stream",
     "text": [
      "Epoch: 0 | Loss: 1.01445 | Test Loss: 1.11560\n",
      "Current Time = 11:34:27\n",
      "Epoch: 50 | Loss: 0.94721 | Test Loss: 1.10915\n",
      "Current Time = 11:34:28\n",
      "Epoch: 100 | Loss: 0.54419 | Test Loss: 1.12696\n",
      "Current Time = 11:34:28\n",
      "Epoch: 150 | Loss: 0.38033 | Test Loss: 1.27626\n",
      "Current Time = 11:34:28\n",
      "Epoch: 200 | Loss: 0.34208 | Test Loss: 1.31194\n",
      "Current Time = 11:34:29\n",
      "Epoch: 250 | Loss: 0.30406 | Test Loss: 1.43728\n",
      "Current Time = 11:34:29\n",
      "4 2 1 0.369628169418161\n",
      "Epoch: 0 | Loss: 1.03044 | Test Loss: 0.93136\n",
      "Current Time = 11:34:30\n",
      "Epoch: 50 | Loss: 0.99347 | Test Loss: 0.92529\n",
      "Current Time = 11:34:30\n",
      "Epoch: 100 | Loss: 0.56826 | Test Loss: 1.13063\n",
      "Current Time = 11:34:30\n",
      "Epoch: 150 | Loss: 0.14844 | Test Loss: 1.22916\n",
      "Current Time = 11:34:31\n",
      "Epoch: 200 | Loss: 0.09316 | Test Loss: 1.30593\n",
      "Current Time = 11:34:31\n",
      "Epoch: 250 | Loss: 0.07874 | Test Loss: 1.35389\n",
      "Current Time = 11:34:31\n",
      "4 2 2 0.1097586962287328\n"
     ]
    }
   ],
   "source": [
    "\n",
    "for t in range(1,3):\n",
    "    x_train=pd.read_csv(\"./data-prelim/model\" + str(model1) + \"-\" + str(model2) + \"-\" + str(n) + \"/x_train_\" + str(t) + \".csv\")\n",
    "    x_train=x_train.drop('Unnamed: 0', axis=1)\n",
    "    y_train=pd.read_csv(\"./data-prelim/model\" + str(model1) + \"-\" + str(model2) + \"-\" + str(n) + \"/y_train_\" + str(t) + \".csv\")\n",
    "    y_train=y_train.drop('Unnamed: 0', axis=1)\n",
    "    x_test=pd.read_csv(\"./data-prelim/model\" + str(model1) + \"-\" + str(model2) + \"-\" + str(n) + \"/x_test_\" + str(t) + \".csv\")\n",
    "    x_test=x_test.drop('Unnamed: 0', axis=1)\n",
    "    y_test=pd.read_csv(\"./data-prelim/model\" + str(model1) + \"-\" + str(model2) + \"-\" + str(n) + \"/y_test_\" + str(t) + \".csv\")\n",
    "    y_test=y_test.drop('Unnamed: 0', axis=1)\n",
    "    z_test=pd.read_csv(\"./data-prelim/model\" + str(model1) + \"-\" + str(model2) + \"-\" + str(n) + \"/z_test_\" + str(t) + \".csv\")\n",
    "    z_test=z_test.drop('Unnamed: 0', axis=1)\n",
    "\n",
    "    n=x_train.shape[0]\n",
    "    p=x_train.shape[1]\n",
    "    #res_d=1\n",
    "\n",
    "\n",
    "    x_train = torch.tensor(x_train.values).to(torch.float)\n",
    "    x_test = torch.tensor(x_test.values).to(torch.float)\n",
    "    if m==1:\n",
    "        y_train = torch.tensor(y_train.values).to(torch.float)\n",
    "        y_test = torch.tensor(y_test.values).to(torch.float)\n",
    "    else:\n",
    "        y_trans_train = (y_train - y_train.mean()) / y_train.std()\n",
    "        y_trans_test = (y_test - y_train.mean()) / y_train.std()\n",
    "        for i in range(2,m+1):\n",
    "            y_train_intermediate=y_train**i/math.factorial(i)\n",
    "            y_test_intermediate=y_test**i/math.factorial(i)\n",
    "            y_test_intermediate = (y_test_intermediate - y_train_intermediate.mean()) / y_train_intermediate.std()\n",
    "            y_train_intermediate = (y_train_intermediate - y_train_intermediate.mean()) / y_train_intermediate.std()\n",
    "            y_trans_train = np.concatenate((y_trans_train,y_train_intermediate), axis=1)\n",
    "            y_trans_test = np.concatenate((y_trans_test,y_test_intermediate), axis=1)\n",
    "        y_train = torch.tensor(y_trans_train).to(torch.float)\n",
    "        y_test = torch.tensor(y_trans_test).to(torch.float)\n",
    "\n",
    "\n",
    "    #print(x_train[:5],y_trans[:5])\n",
    "    mse_loss = nn.MSELoss()\n",
    "    # Build model\n",
    "    class nn_dr_reg_model(nn.Module):\n",
    "        def __init__(self, input_features, output_features, dim_red_features, hidden_units_d, hidden_units_e, dim_red_layers, ens_reg_layers):\n",
    "            super().__init__()\n",
    "            model_dim_red=[]\n",
    "            model_dim_red.append(nn.Linear(in_features=input_features, \n",
    "                                        out_features=hidden_units_d))\n",
    "            model_dim_red.append(nn.ReLU())\n",
    "            for i in range(1,dim_red_layers):\n",
    "                model_dim_red.append(nn.Linear(in_features=hidden_units_d, \n",
    "                                            out_features=hidden_units_d))\n",
    "                model_dim_red.append(nn.ReLU())\n",
    "            model_dim_red.append(nn.Linear(in_features=hidden_units_d, \n",
    "                                        out_features=dim_red_features))\n",
    "            self.dim_red_layer_stack = nn.Sequential(*model_dim_red)\n",
    "\n",
    "            model_ens_reg=[]\n",
    "            model_ens_reg.append(nn.Linear(in_features=dim_red_features, out_features=hidden_units_e))\n",
    "            model_ens_reg.append(nn.ReLU())\n",
    "            for i in range(1,ens_reg_layers):\n",
    "                model_ens_reg.append(nn.Linear(in_features=hidden_units_e, out_features=hidden_units_e))\n",
    "                model_ens_reg.append(nn.ReLU())\n",
    "            model_ens_reg.append(nn.Linear(in_features=hidden_units_e, out_features=output_features))\n",
    "            self.ens_reg_layer_stack = nn.Sequential(*model_ens_reg)\n",
    "\n",
    "        def forward(self, x):\n",
    "            suff_predictor = self.dim_red_layer_stack(x)\n",
    "            ens_output = self.ens_reg_layer_stack(suff_predictor)\n",
    "            return ens_output, suff_predictor\n",
    "\n",
    "\n",
    "    # Create an instance of BlobModel and send it to the target device\n",
    "    model_nn = nn_dr_reg_model(input_features=p, \n",
    "                            output_features=m, \n",
    "                            dim_red_features=res_d, \n",
    "                            hidden_units_d=r1,\n",
    "                            hidden_units_e=r2,\n",
    "                            dim_red_layers=l1, \n",
    "                            ens_reg_layers=l2\n",
    "                            ).to(device)\n",
    "    model_nn\n",
    "    optimizer = torch.optim.Adam(model_nn.parameters(), \n",
    "                                lr=0.001)\n",
    "    epochs = 300\n",
    "    x_train, y_train = x_train.to(device), y_train.to(device)\n",
    "    x_test = x_test.to(device)\n",
    "    for epoch in range(epochs):\n",
    "        ### Training\n",
    "        model_nn.train()\n",
    "\n",
    "        # 1. Forward pass\n",
    "        y_pred_train, y_suff_train = model_nn(x_train) \n",
    "\n",
    "        # 2. Calculate loss and accuracy\n",
    "        loss = mse_loss(y_pred_train, y_train) \n",
    "\n",
    "        # 3. Optimizer zero grad\n",
    "        optimizer.zero_grad()\n",
    "\n",
    "        # 4. Loss backwards\n",
    "        loss.backward()\n",
    "\n",
    "        # 5. Optimizer step\n",
    "        optimizer.step()\n",
    "\n",
    "        ### Testing\n",
    "        model_nn.eval()\n",
    "\n",
    "        y_pred_test, y_suff_test = model_nn(x_test)\n",
    "        loss_test = mse_loss(y_pred_test, y_test) \n",
    "        dcor_test = dcor.distance_correlation(np.float64(y_suff_test.detach().numpy()),np.float64(z_test))\n",
    "\n",
    "        if epoch % 50 == 0:\n",
    "            print(f\"Epoch: {epoch} | Loss: {loss:.5f} | Test Loss: {loss_test:.5f}\")\n",
    "            now = datetime.now()\n",
    "            current_time = now.strftime(\"%H:%M:%S\")\n",
    "            print(\"Current Time =\", current_time)\n",
    "    model_nn.eval()\n",
    "    with torch.inference_mode():\n",
    "        y_pred_test, y_suff_test = model_nn(x_test)\n",
    "    y_suff_test=y_suff_test.numpy()\n",
    "    if res_d==1:\n",
    "        dcor_current=dcor.distance_correlation(np.float64(y_suff_test),np.float64(z_test.to_numpy()),method=\"naive\")\n",
    "    elif res_d==2:\n",
    "        dcor_current=[dcor.distance_correlation(np.float64(y_suff_test),np.float64(z_test.to_numpy()),method=\"naive\"),\n",
    "                      dcor.distance_correlation(np.float64(y_suff_test),np.float64(z_test.to_numpy()[:,0]),method=\"naive\"),\n",
    "                      dcor.distance_correlation(np.float64(y_suff_test),np.float64(z_test.to_numpy()[:,1]),method=\"naive\")]\n",
    "    #dcor_list.append(dcor_current)\n",
    "    print(model1, model2, t, dcor_current)\n",
    "#dcor_list_df=pd.DataFrame(dcor_list)\n",
    "#dcor_list_df.to_csv(\"./results-BENN-unified-std/result-\" + str(model1) + \"-\" + str(model2) + \"-\" + str(m) + \"-\" + str(n) + \".csv\")\n",
    "#print(model1, model2, np.mean(dcor_list), np.std(dcor_list))"
   ]
  },
  {
   "cell_type": "code",
   "execution_count": 7,
   "id": "3db139c1",
   "metadata": {},
   "outputs": [],
   "source": [
    "#plt.plot(y_suff_test, y_test, 'o')#, color=\"C0\")"
   ]
  },
  {
   "cell_type": "code",
   "execution_count": 8,
   "id": "ee9ddabb-5fa4-44ca-9454-c7642ee55c22",
   "metadata": {},
   "outputs": [],
   "source": [
    "#dcor.distance_correlation(np.float64(y_suff_test),np.float64(z_test.to_numpy()[:,1]),method=\"naive\")"
   ]
  },
  {
   "cell_type": "code",
   "execution_count": 9,
   "id": "efd5fea4-2807-4390-85b4-71cf51773ee4",
   "metadata": {},
   "outputs": [],
   "source": [
    "#y_suff_test_df=pd.DataFrame(y_suff_test)\n",
    "#y_pred_test_df=pd.DataFrame(y_pred_test)"
   ]
  },
  {
   "cell_type": "code",
   "execution_count": 10,
   "id": "3c269471-400e-4f86-bc04-43d4321a7cf0",
   "metadata": {},
   "outputs": [],
   "source": [
    "#dcor.distance_correlation(y_suff_test,z_test)"
   ]
  },
  {
   "cell_type": "code",
   "execution_count": 11,
   "id": "e797824b-bcda-4b59-bd56-d6036223d08c",
   "metadata": {},
   "outputs": [],
   "source": [
    "#dcor.distance_correlation(np.float64(y_suff_test),np.float64(z_test.to_numpy()))"
   ]
  },
  {
   "cell_type": "code",
   "execution_count": null,
   "id": "548afea9-f5c5-4fa5-a476-57affbae7fd9",
   "metadata": {},
   "outputs": [],
   "source": []
  },
  {
   "cell_type": "code",
   "execution_count": 12,
   "id": "9bde6300-5115-407e-882f-9d834941dd4d",
   "metadata": {},
   "outputs": [],
   "source": [
    "#dcor.distance_correlation(np.float64(y_suff_test.detach().numpy()),np.float64(z_test.to_numpy()),method=\"avl\")"
   ]
  },
  {
   "cell_type": "code",
   "execution_count": 13,
   "id": "6e72e0db-af2d-4c00-85e1-2f69f8be9ca8",
   "metadata": {},
   "outputs": [],
   "source": [
    "#dcor.distance_correlation(np.float64(y_suff_test.detach().numpy()),np.float64(z_test.to_numpy()),method=\"naive\")"
   ]
  },
  {
   "cell_type": "code",
   "execution_count": 14,
   "id": "18051330-bc5c-40fc-b40f-2e3ec8b75f09",
   "metadata": {},
   "outputs": [],
   "source": [
    "#dcor.distance_correlation(np.float64(z_test.to_numpy()[:,1]),np.float64(z_test.to_numpy()),method=\"naive\")"
   ]
  },
  {
   "cell_type": "code",
   "execution_count": null,
   "id": "2adedc37-58ab-4bc2-b688-d0b4a0d354aa",
   "metadata": {},
   "outputs": [],
   "source": []
  }
 ],
 "metadata": {
  "kernelspec": {
   "display_name": "PyTorch_conda",
   "language": "python",
   "name": "torch_env"
  },
  "language_info": {
   "codemirror_mode": {
    "name": "ipython",
    "version": 3
   },
   "file_extension": ".py",
   "mimetype": "text/x-python",
   "name": "python",
   "nbconvert_exporter": "python",
   "pygments_lexer": "ipython3",
   "version": "3.11.5"
  }
 },
 "nbformat": 4,
 "nbformat_minor": 5
}
