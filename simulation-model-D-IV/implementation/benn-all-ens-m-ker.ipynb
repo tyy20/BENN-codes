{
 "cells": [
  {
   "cell_type": "code",
   "execution_count": 1,
   "id": "0a7484cc-6b31-4d27-b17b-b3a89569d6e6",
   "metadata": {},
   "outputs": [
    {
     "name": "stderr",
     "output_type": "stream",
     "text": [
      "[rank: 0] Global seed set to 42\n"
     ]
    }
   ],
   "source": [
    "import numpy as np\n",
    "import pandas as pd\n",
    "import math\n",
    "\n",
    "import torch\n",
    "import matplotlib.pyplot as plt\n",
    "from sklearn.model_selection import train_test_split\n",
    "\n",
    "from pytorch_lightning import seed_everything\n",
    "seed_everything(42, workers=True)\n",
    "torch.use_deterministic_algorithms(True, warn_only=True)\n",
    "\n",
    "\n",
    "import dcor\n",
    "\n",
    "from datetime import datetime\n",
    "\n",
    "from torch import nn\n",
    "\n",
    "import argparse\n",
    "\n",
    "import os \n",
    "\n",
    "import time\n",
    "from time import process_time\n",
    "\n"
   ]
  },
  {
   "cell_type": "code",
   "execution_count": 2,
   "id": "d636a47a-cebf-438a-b29b-ba467c0900eb",
   "metadata": {},
   "outputs": [
    {
     "name": "stdout",
     "output_type": "stream",
     "text": [
      "4 1 5000 1000 2 1 50 2000 2 3\n"
     ]
    }
   ],
   "source": [
    "parser = argparse.ArgumentParser(description=\"Running BENN\")\n",
    "parser.add_argument('--model1', default=4, type = int, help = 'model1')\n",
    "parser.add_argument('--model2', default=1, type = int, help = 'model2')\n",
    "parser.add_argument('--n', default=5000, type = int, help = 'n')\n",
    "parser.add_argument('--m', default=1000, type = int, help = 'm')\n",
    "parser.add_argument('--l1', default=2, type = int, help = 'l1')\n",
    "parser.add_argument('--l2', default=1, type = int, help = 'l2')\n",
    "parser.add_argument('--r1', default=50, type = int, help = 'r1')\n",
    "parser.add_argument('--r2', default=2000, type = int, help = 'r2')\n",
    "parser.add_argument('--d', default=2, type = int, help = 'd')\n",
    "parser.add_argument('--t', default=3, type = int, help = 't')\n",
    "args = parser.parse_args()\n",
    "model1 = args.model1\n",
    "model2 = args.model2\n",
    "n = args.n\n",
    "m = args.m\n",
    "l1 = args.l1\n",
    "l2 = args.l2\n",
    "r1 = args.r1\n",
    "r2 = args.r2\n",
    "res_d = args.d\n",
    "t = args.t\n",
    "print(model1, model2, n, m, l1, l2, r1, r2, res_d, t)\n",
    "\n"
   ]
  },
  {
   "cell_type": "code",
   "execution_count": 3,
   "id": "928398fd-e16f-4f9b-8bfe-d5e1856470dc",
   "metadata": {},
   "outputs": [],
   "source": [
    "directory=\"./results-BENN-unified-std/result-\" + str(model1) + \"-\" + str(model2) + \"-\" + str(m) + \"-\" + str(n)\n",
    "if not os.path.exists(directory):\n",
    "    os.makedirs(directory)"
   ]
  },
  {
   "cell_type": "code",
   "execution_count": null,
   "id": "684ef10d-2cbf-42ad-a3bd-75ed1a27935a",
   "metadata": {},
   "outputs": [],
   "source": []
  },
  {
   "cell_type": "code",
   "execution_count": 4,
   "id": "50359073-4520-42d2-bcc6-63ce3e3ca145",
   "metadata": {},
   "outputs": [
    {
     "data": {
      "text/plain": [
       "'cpu'"
      ]
     },
     "execution_count": 4,
     "metadata": {},
     "output_type": "execute_result"
    }
   ],
   "source": [
    "# Create device agnostic code\n",
    "device = \"cuda\" if torch.cuda.is_available() else \"cpu\"\n",
    "device"
   ]
  },
  {
   "cell_type": "code",
   "execution_count": 5,
   "id": "d1fd3b09-e12c-4172-973e-11a56a2d1d38",
   "metadata": {},
   "outputs": [],
   "source": [
    "x_train=pd.read_csv(\"./data/model\" + str(model1) + \"-\" + str(model2) + \"-\" + str(n) + \"/x_train_\" + str(t) + \".csv\")\n",
    "x_train=x_train.drop('Unnamed: 0', axis=1)\n",
    "y_train=pd.read_csv(\"./data/model\" + str(model1) + \"-\" + str(model2) + \"-\" + str(n) + \"/y_train_\" + str(t) + \".csv\")\n",
    "y_train=y_train.drop('Unnamed: 0', axis=1)\n",
    "x_test=pd.read_csv(\"./data/model\" + str(model1) + \"-\" + str(model2) + \"-\" + str(n) + \"/x_test_\" + str(t) + \".csv\")\n",
    "x_test=x_test.drop('Unnamed: 0', axis=1)\n",
    "y_test=pd.read_csv(\"./data/model\" + str(model1) + \"-\" + str(model2) + \"-\" + str(n) + \"/y_test_\" + str(t) + \".csv\")\n",
    "y_test=y_test.drop('Unnamed: 0', axis=1)\n",
    "z_test=pd.read_csv(\"./data/model\" + str(model1) + \"-\" + str(model2) + \"-\" + str(n) + \"/z_test_\" + str(t) + \".csv\")\n",
    "z_test=z_test.drop('Unnamed: 0', axis=1)\n",
    "y_train_original=y_train\n",
    "y_test_original=y_test"
   ]
  },
  {
   "cell_type": "code",
   "execution_count": null,
   "id": "104928d9-de5e-497b-8ee8-4c99e5b8e1f0",
   "metadata": {},
   "outputs": [],
   "source": []
  },
  {
   "cell_type": "code",
   "execution_count": 6,
   "id": "e195dddf-f1f1-4bc0-b3e4-5114ae6ca8be",
   "metadata": {},
   "outputs": [],
   "source": [
    "x_train=x_train.to_numpy()\n",
    "y_train=y_train.to_numpy()\n",
    "x_test=x_test.to_numpy()\n",
    "y_test=y_test.to_numpy()\n"
   ]
  },
  {
   "cell_type": "code",
   "execution_count": 7,
   "id": "3edb317d-2323-4e45-af64-e45f7c1bcea1",
   "metadata": {},
   "outputs": [],
   "source": [
    "t1_start = time.time() \n",
    "t2_start = process_time()"
   ]
  },
  {
   "cell_type": "code",
   "execution_count": 8,
   "id": "88acc1ad-7115-468c-bcb3-03145cb29daa",
   "metadata": {},
   "outputs": [],
   "source": [
    "def kernel_func(bw, y1, y2):\n",
    "    return math.exp(-((y1-y2)/bw)**2/2)"
   ]
  },
  {
   "cell_type": "code",
   "execution_count": 9,
   "id": "bd8294a1-9779-4763-a156-6043372efd83",
   "metadata": {},
   "outputs": [],
   "source": [
    "y_list=np.random.uniform(low=y_train.mean()-2*y_train.std(),\n",
    "                         high=y_train.mean()+2*y_train.std(),\n",
    "                         size=m)\n",
    "bw=y_train.std()"
   ]
  },
  {
   "cell_type": "code",
   "execution_count": 10,
   "id": "193e7e41-7941-4c15-b8c2-a36fb283a2a3",
   "metadata": {},
   "outputs": [],
   "source": [
    "y_trans_train=[]\n",
    "for i in range(y_train.shape[0]):\n",
    "    y_trans_current=[]\n",
    "    for j in range(m):\n",
    "        y_trans_current.append(kernel_func(bw,y_list[j],y_train[i][0]))\n",
    "    y_trans_train.append(y_trans_current)\n",
    "y_trans_train=np.array(y_trans_train)\n",
    "y_trans_test=[]\n",
    "for i in range(y_test.shape[0]):\n",
    "    y_trans_current=[]\n",
    "    for j in range(m):\n",
    "        y_trans_current.append(kernel_func(bw,y_list[j],y_test[i][0]))\n",
    "    y_trans_test.append(y_trans_current)\n",
    "y_trans_test=np.array(y_trans_test)"
   ]
  },
  {
   "cell_type": "code",
   "execution_count": 11,
   "id": "d64e3b6f-eacf-40f8-9d9f-9ca7bface9e2",
   "metadata": {},
   "outputs": [],
   "source": [
    "mse_loss = nn.MSELoss()\n",
    "# Build model\n",
    "class nn_dr_reg_model(nn.Module):\n",
    "    def __init__(self, input_features, output_features, dim_red_features, hidden_units_d, hidden_units_e, dim_red_layers, ens_reg_layers):\n",
    "        super().__init__()\n",
    "        model_dim_red=[]\n",
    "        model_dim_red.append(nn.Linear(in_features=input_features, \n",
    "                                    out_features=hidden_units_d))\n",
    "        model_dim_red.append(nn.ReLU())\n",
    "        for i in range(1,dim_red_layers):\n",
    "            model_dim_red.append(nn.Linear(in_features=hidden_units_d, \n",
    "                                        out_features=hidden_units_d))\n",
    "            model_dim_red.append(nn.ReLU())\n",
    "        model_dim_red.append(nn.Linear(in_features=hidden_units_d, \n",
    "                                    out_features=dim_red_features))\n",
    "        self.dim_red_layer_stack = nn.Sequential(*model_dim_red)\n",
    "\n",
    "        model_ens_reg=[]\n",
    "        model_ens_reg.append(nn.Linear(in_features=dim_red_features, out_features=hidden_units_e))\n",
    "        model_ens_reg.append(nn.ReLU())\n",
    "        for i in range(1,ens_reg_layers):\n",
    "            model_ens_reg.append(nn.Linear(in_features=hidden_units_e, out_features=hidden_units_e))\n",
    "            model_ens_reg.append(nn.ReLU())\n",
    "        model_ens_reg.append(nn.Linear(in_features=hidden_units_e, out_features=output_features))\n",
    "        self.ens_reg_layer_stack = nn.Sequential(*model_ens_reg)\n",
    "\n",
    "    def forward(self, x):\n",
    "        suff_predictor = self.dim_red_layer_stack(x)\n",
    "        ens_output = self.ens_reg_layer_stack(suff_predictor)\n",
    "        return ens_output, suff_predictor"
   ]
  },
  {
   "cell_type": "code",
   "execution_count": 12,
   "id": "ddb4262b-909f-41bf-b3b5-64bd79654a9c",
   "metadata": {},
   "outputs": [
    {
     "data": {
      "text/plain": [
       "nn_dr_reg_model(\n",
       "  (dim_red_layer_stack): Sequential(\n",
       "    (0): Linear(in_features=50, out_features=50, bias=True)\n",
       "    (1): ReLU()\n",
       "    (2): Linear(in_features=50, out_features=50, bias=True)\n",
       "    (3): ReLU()\n",
       "    (4): Linear(in_features=50, out_features=2, bias=True)\n",
       "  )\n",
       "  (ens_reg_layer_stack): Sequential(\n",
       "    (0): Linear(in_features=2, out_features=2000, bias=True)\n",
       "    (1): ReLU()\n",
       "    (2): Linear(in_features=2000, out_features=1000, bias=True)\n",
       "  )\n",
       ")"
      ]
     },
     "execution_count": 12,
     "metadata": {},
     "output_type": "execute_result"
    }
   ],
   "source": [
    "\n",
    "\n",
    "\n",
    "n=x_train.shape[0]\n",
    "p=x_train.shape[1]\n",
    "#res_d=1\n",
    "\n",
    "\n",
    "x_train = torch.tensor(x_train).to(torch.float)\n",
    "x_test = torch.tensor(x_test).to(torch.float)\n",
    "\n",
    "y_train = torch.tensor(y_trans_train).to(torch.float)\n",
    "y_test = torch.tensor(y_trans_test).to(torch.float)\n",
    "\n",
    "\n",
    "\n",
    "# Create an instance of BlobModel and send it to the target device\n",
    "model_nn = nn_dr_reg_model(input_features=p, \n",
    "                        output_features=m, \n",
    "                        dim_red_features=res_d, \n",
    "                        hidden_units_d=r1,\n",
    "                        hidden_units_e=r2,\n",
    "                        dim_red_layers=l1, \n",
    "                        ens_reg_layers=l2\n",
    "                        ).to(device)\n",
    "model_nn\n",
    "\n"
   ]
  },
  {
   "cell_type": "code",
   "execution_count": 13,
   "id": "3db139c1",
   "metadata": {},
   "outputs": [
    {
     "name": "stdout",
     "output_type": "stream",
     "text": [
      "Epoch: 24 | Loss: 0.07907 | Test Loss: 0.07752 | Test Dcor: 0.09812\n",
      "Current Time = 13:49:14\n",
      "Epoch: 49 | Loss: 0.07242 | Test Loss: 0.07138 | Test Dcor: 0.34362\n",
      "Current Time = 13:49:17\n",
      "Epoch: 74 | Loss: 0.06308 | Test Loss: 0.06230 | Test Dcor: 0.59632\n",
      "Current Time = 13:49:21\n",
      "Epoch: 99 | Loss: 0.04940 | Test Loss: 0.04759 | Test Dcor: 0.74921\n",
      "Current Time = 13:49:25\n",
      "Epoch: 124 | Loss: 0.04079 | Test Loss: 0.04262 | Test Dcor: 0.80928\n",
      "Current Time = 13:49:28\n",
      "Epoch: 149 | Loss: 0.03473 | Test Loss: 0.04242 | Test Dcor: 0.82110\n",
      "Current Time = 13:49:32\n",
      "Epoch: 174 | Loss: 0.03091 | Test Loss: 0.04571 | Test Dcor: 0.81025\n",
      "Current Time = 13:49:36\n",
      "Epoch: 199 | Loss: 0.02742 | Test Loss: 0.04995 | Test Dcor: 0.79421\n",
      "Current Time = 13:49:39\n"
     ]
    }
   ],
   "source": [
    "optimizer = torch.optim.Adam(model_nn.parameters(), \n",
    "                            lr=0.001,weight_decay=0)\n",
    "epochs = 150\n",
    "x_train, y_train = x_train.to(device), y_train.to(device)\n",
    "x_test, y_test = x_test.to(device), y_test.to(device)\n",
    "for epoch in range(epochs):\n",
    "    ### Training\n",
    "    model_nn.train()\n",
    "\n",
    "    # 1. Forward pass\n",
    "    y_pred_train, y_suff_train = model_nn(x_train) \n",
    "\n",
    "    # 2. Calculate loss and accuracy\n",
    "    loss = mse_loss(y_pred_train, y_train) \n",
    "\n",
    "    # 3. Optimizer zero grad\n",
    "    optimizer.zero_grad()\n",
    "\n",
    "    # 4. Loss backwards\n",
    "    loss.backward()\n",
    "\n",
    "    # 5. Optimizer step\n",
    "    optimizer.step()\n",
    "\n",
    "    ### Testing\n",
    "    model_nn.eval()\n",
    "\n",
    "    y_pred_test, y_suff_test = model_nn(x_test)\n",
    "    loss_test = mse_loss(y_pred_test, y_test) \n",
    "    dcor_test = dcor.distance_correlation(np.float64(y_suff_test.detach().numpy()),np.float64(z_test))\n",
    "\n",
    "    if epoch % 25 == 24:\n",
    "        print(f\"Epoch: {epoch} | Loss: {loss:.5f} | Test Loss: {loss_test:.5f} | Test Dcor: {dcor_test:.5f}\")\n",
    "        now = datetime.now()\n",
    "        current_time = now.strftime(\"%H:%M:%S\")\n",
    "        print(\"Current Time =\", current_time)\n",
    "model_nn.eval()\n",
    "with torch.inference_mode():\n",
    "    y_pred_test, y_suff_test = model_nn(x_test)\n",
    "#dcor_list.append(dcor_current)\n",
    "#print(model1, model2,  dcor_current)\n",
    "#dcor_list_df=pd.DataFrame(dcor_list)\n",
    "#dcor_list_df.to_csv(\"./results-BENN-unified-std/result-\" + str(model1) + \"-\" + str(model2) + \"-\" + str(m) + \"-\" + str(n) + \".csv\")\n",
    "#print(model1, model2, np.mean(dcor_list), np.std(dcor_list))"
   ]
  },
  {
   "cell_type": "code",
   "execution_count": 14,
   "id": "e0931026-1c6d-4f05-801a-241dd5b42fa1",
   "metadata": {},
   "outputs": [],
   "source": [
    "t1_stop = time.time() \n",
    "t2_stop = process_time()"
   ]
  },
  {
   "cell_type": "code",
   "execution_count": 15,
   "id": "b42c79dc-9b90-46bd-b502-37dd140bf9ab",
   "metadata": {},
   "outputs": [],
   "source": [
    "y_suff_test=y_suff_test.numpy()\n",
    "y_suff_test_df=pd.DataFrame(y_suff_test)\n",
    "y_suff_test_df.to_csv(\"./results-BENN-unified-std/result-\" + str(model1) + \"-\" + str(model2) + \"-\" + str(m) + \"-\" + str(n) + \"/y_suff_\" + str(t) + \".csv\")\n"
   ]
  },
  {
   "cell_type": "code",
   "execution_count": 16,
   "id": "7cdfb117-0781-4f34-9023-1f16fc3dc9e6",
   "metadata": {},
   "outputs": [],
   "source": [
    "time_use=[t1_stop-t1_start,t2_stop-t2_start]\n",
    "time_use_df=pd.DataFrame(time_use)\n",
    "time_use_df.to_csv(\"./results-BENN-unified-std/result-\" + str(model1) + \"-\" + str(model2) + \"-\" + str(m) + \"-\" + str(n) + \"/time_\" + str(t) + \".csv\")\n"
   ]
  },
  {
   "cell_type": "code",
   "execution_count": 17,
   "id": "8f000af1-476f-4bb4-ac3f-83ee8de4ec07",
   "metadata": {},
   "outputs": [],
   "source": [
    "\n",
    "#dcor.distance_correlation(np.float64(y_suff_test),np.float64(z_test))"
   ]
  },
  {
   "cell_type": "code",
   "execution_count": 18,
   "id": "ee9ddabb-5fa4-44ca-9454-c7642ee55c22",
   "metadata": {},
   "outputs": [],
   "source": [
    "#plt.plot(abs(y_suff_test[:,0]-0.03*y_suff_test[:,1]**2+0.4)**0.5,\n",
    "#         y_test-2*x_test[:,0], 'o')"
   ]
  },
  {
   "cell_type": "code",
   "execution_count": 19,
   "id": "efd5fea4-2807-4390-85b4-71cf51773ee4",
   "metadata": {},
   "outputs": [],
   "source": [
    "#dcor.distance_correlation(np.float64(y_suff_test),\n",
    "#                          np.float64(np.concatenate((z_test.to_numpy()[:,0].reshape((z_test.shape[0],1)),\n",
    "#                                                     (z_test.to_numpy()[:,1]**2+4*z_test.to_numpy()[:,0]**2).reshape((z_test.shape[0],1))), axis=1)),method=\"naive\")"
   ]
  },
  {
   "cell_type": "code",
   "execution_count": 20,
   "id": "a67aa17c-40f1-41ab-820a-572859b5f4ca",
   "metadata": {},
   "outputs": [],
   "source": [
    "#x_test.detach().numpy()[:,1]"
   ]
  },
  {
   "cell_type": "code",
   "execution_count": 21,
   "id": "3c269471-400e-4f86-bc04-43d4321a7cf0",
   "metadata": {},
   "outputs": [],
   "source": [
    "#plt.plot(x_test.detach().numpy()[:,1],y_test, 'o')"
   ]
  },
  {
   "cell_type": "code",
   "execution_count": 22,
   "id": "e797824b-bcda-4b59-bd56-d6036223d08c",
   "metadata": {},
   "outputs": [],
   "source": [
    "#dcor.distance_correlation(np.float64(y_suff_test),np.float64(z_test.to_numpy()))"
   ]
  },
  {
   "cell_type": "code",
   "execution_count": 23,
   "id": "548afea9-f5c5-4fa5-a476-57affbae7fd9",
   "metadata": {},
   "outputs": [],
   "source": [
    "#y_suff_test_all"
   ]
  },
  {
   "cell_type": "code",
   "execution_count": 24,
   "id": "9bde6300-5115-407e-882f-9d834941dd4d",
   "metadata": {},
   "outputs": [],
   "source": [
    "#plt.plot(np.float64(y_suff_test[:,0]),np.float64(z_test.to_numpy()[:,0]), 'o')"
   ]
  },
  {
   "cell_type": "code",
   "execution_count": 25,
   "id": "6e72e0db-af2d-4c00-85e1-2f69f8be9ca8",
   "metadata": {},
   "outputs": [],
   "source": [
    "#dcor.distance_correlation(np.float64(y_suff_test.detach().numpy()),np.float64(z_test.to_numpy()),method=\"naive\")"
   ]
  },
  {
   "cell_type": "code",
   "execution_count": 26,
   "id": "18051330-bc5c-40fc-b40f-2e3ec8b75f09",
   "metadata": {},
   "outputs": [],
   "source": [
    "#dcor.distance_correlation(np.float64(z_test.to_numpy()[:,1]),np.float64(z_test.to_numpy()),method=\"naive\")"
   ]
  },
  {
   "cell_type": "code",
   "execution_count": null,
   "id": "2adedc37-58ab-4bc2-b688-d0b4a0d354aa",
   "metadata": {},
   "outputs": [],
   "source": []
  },
  {
   "cell_type": "code",
   "execution_count": null,
   "id": "d869185d-8ab9-469a-bb2c-6ac288ab7311",
   "metadata": {},
   "outputs": [],
   "source": []
  }
 ],
 "metadata": {
  "kernelspec": {
   "display_name": "PyTorch_conda",
   "language": "python",
   "name": "torch_env"
  },
  "language_info": {
   "codemirror_mode": {
    "name": "ipython",
    "version": 3
   },
   "file_extension": ".py",
   "mimetype": "text/x-python",
   "name": "python",
   "nbconvert_exporter": "python",
   "pygments_lexer": "ipython3",
   "version": "3.11.5"
  }
 },
 "nbformat": 4,
 "nbformat_minor": 5
}
