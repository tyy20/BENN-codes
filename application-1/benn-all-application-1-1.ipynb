{
 "cells": [
  {
   "cell_type": "code",
   "execution_count": 1,
   "id": "0a7484cc-6b31-4d27-b17b-b3a89569d6e6",
   "metadata": {},
   "outputs": [
    {
     "name": "stderr",
     "output_type": "stream",
     "text": [
      "[rank: 0] Global seed set to 42\n"
     ]
    }
   ],
   "source": [
    "import numpy as np\n",
    "import pandas as pd\n",
    "import math\n",
    "\n",
    "import torch\n",
    "import matplotlib.pyplot as plt\n",
    "from sklearn.model_selection import train_test_split\n",
    "\n",
    "from pytorch_lightning import seed_everything\n",
    "seed_everything(42, workers=True)\n",
    "torch.use_deterministic_algorithms(True, warn_only=True)\n",
    "\n",
    "\n",
    "import dcor\n",
    "\n",
    "from datetime import datetime\n",
    "\n",
    "from torch import nn\n",
    "\n",
    "import argparse\n",
    "\n",
    "import os \n",
    "\n",
    "import time\n",
    "from time import process_time\n",
    "\n"
   ]
  },
  {
   "cell_type": "code",
   "execution_count": 2,
   "id": "198da9c3-47d6-495f-8925-5e4216b1b780",
   "metadata": {},
   "outputs": [
    {
     "data": {
      "text/plain": [
       "(21263, 82)"
      ]
     },
     "execution_count": 2,
     "metadata": {},
     "output_type": "execute_result"
    }
   ],
   "source": [
    "data=pd.read_csv(\"train.csv\")\n",
    "data=data.to_numpy()\n",
    "data.shape"
   ]
  },
  {
   "cell_type": "code",
   "execution_count": 3,
   "id": "8acc760e-de29-4584-a10d-501fca144597",
   "metadata": {},
   "outputs": [],
   "source": [
    "x_all=data[:,range(81)]\n",
    "y_all=data[:,81]"
   ]
  },
  {
   "cell_type": "code",
   "execution_count": 4,
   "id": "5931e903-879c-4291-baed-9fd6bd432ae0",
   "metadata": {},
   "outputs": [],
   "source": [
    "(x_train, \n",
    " x_test,\n",
    " y_train,\n",
    " y_test) = train_test_split(x_all,\n",
    "                            y_all,\n",
    "                            test_size=1/3,\n",
    "                            random_state=2)\n",
    "x_train_df=pd.DataFrame(x_train)\n",
    "x_test_df=pd.DataFrame(x_test)\n",
    "y_train_df=pd.DataFrame(y_train)\n",
    "y_test_df=pd.DataFrame(y_test)\n",
    "x_train_df.to_csv(\"./application-data/x_train.csv\")\n",
    "x_test_df.to_csv(\"./application-data/x_test.csv\")\n",
    "y_train_df.to_csv(\"./application-data/y_train.csv\")\n",
    "y_test_df.to_csv(\"./application-data/y_test.csv\")"
   ]
  },
  {
   "cell_type": "code",
   "execution_count": 5,
   "id": "d636a47a-cebf-438a-b29b-ba467c0900eb",
   "metadata": {},
   "outputs": [],
   "source": [
    "l1=2\n",
    "l2=2\n",
    "r1=50\n",
    "r2=50\n",
    "res_d=1\n",
    "m=1"
   ]
  },
  {
   "cell_type": "code",
   "execution_count": 6,
   "id": "50359073-4520-42d2-bcc6-63ce3e3ca145",
   "metadata": {},
   "outputs": [
    {
     "data": {
      "text/plain": [
       "'cpu'"
      ]
     },
     "execution_count": 6,
     "metadata": {},
     "output_type": "execute_result"
    }
   ],
   "source": [
    "# Create device agnostic code\n",
    "device = \"cuda\" if torch.cuda.is_available() else \"cpu\"\n",
    "device"
   ]
  },
  {
   "cell_type": "code",
   "execution_count": 7,
   "id": "d1fd3b09-e12c-4172-973e-11a56a2d1d38",
   "metadata": {},
   "outputs": [],
   "source": [
    "t1_start = time.time() \n",
    "t2_start = process_time()"
   ]
  },
  {
   "cell_type": "code",
   "execution_count": 8,
   "id": "104928d9-de5e-497b-8ee8-4c99e5b8e1f0",
   "metadata": {},
   "outputs": [],
   "source": [
    "#z_test[0,:]"
   ]
  },
  {
   "cell_type": "code",
   "execution_count": 9,
   "id": "3e0c665f-c218-4553-96f8-80fd29f1114e",
   "metadata": {},
   "outputs": [
    {
     "name": "stdout",
     "output_type": "stream",
     "text": [
      "Epoch: 0 | Loss: 3453.05713 | Test Loss: 2655.70801 | Dcor: 0.56560\n",
      "Current Time = 14:47:26\n",
      "Epoch: 10 | Loss: 1247.45312 | Test Loss: 1277.90588 | Dcor: 0.45526\n",
      "Current Time = 14:47:26\n",
      "Epoch: 20 | Loss: 972.93036 | Test Loss: 932.73175 | Dcor: 0.57783\n",
      "Current Time = 14:47:26\n",
      "Epoch: 30 | Loss: 826.89099 | Test Loss: 801.31262 | Dcor: 0.61059\n",
      "Current Time = 14:47:26\n",
      "Epoch: 40 | Loss: 748.64435 | Test Loss: 733.15521 | Dcor: 0.64557\n",
      "Current Time = 14:47:26\n",
      "Epoch: 50 | Loss: 709.30737 | Test Loss: 701.46906 | Dcor: 0.66561\n",
      "Current Time = 14:47:27\n",
      "Epoch: 60 | Loss: 676.74908 | Test Loss: 668.32184 | Dcor: 0.68048\n",
      "Current Time = 14:47:27\n",
      "Epoch: 70 | Loss: 637.09686 | Test Loss: 628.49310 | Dcor: 0.69606\n",
      "Current Time = 14:47:27\n",
      "Epoch: 80 | Loss: 584.43079 | Test Loss: 576.36194 | Dcor: 0.72107\n",
      "Current Time = 14:47:27\n",
      "Epoch: 90 | Loss: 521.83392 | Test Loss: 512.42786 | Dcor: 0.75293\n",
      "Current Time = 14:47:27\n",
      "Epoch: 100 | Loss: 454.15115 | Test Loss: 441.58725 | Dcor: 0.78417\n",
      "Current Time = 14:47:28\n",
      "Epoch: 110 | Loss: 406.27957 | Test Loss: 395.96091 | Dcor: 0.80288\n",
      "Current Time = 14:47:28\n",
      "Epoch: 120 | Loss: 384.91153 | Test Loss: 378.18253 | Dcor: 0.81014\n",
      "Current Time = 14:47:28\n",
      "Epoch: 130 | Loss: 368.46545 | Test Loss: 360.79828 | Dcor: 0.81677\n",
      "Current Time = 14:47:28\n",
      "Epoch: 140 | Loss: 353.14102 | Test Loss: 348.64658 | Dcor: 0.82221\n",
      "Current Time = 14:47:28\n",
      "Epoch: 150 | Loss: 339.76709 | Test Loss: 337.02039 | Dcor: 0.82599\n",
      "Current Time = 14:47:29\n",
      "Epoch: 160 | Loss: 331.96255 | Test Loss: 327.79398 | Dcor: 0.83000\n",
      "Current Time = 14:47:29\n",
      "Epoch: 170 | Loss: 319.41098 | Test Loss: 317.13760 | Dcor: 0.83303\n",
      "Current Time = 14:47:29\n",
      "Epoch: 180 | Loss: 311.54984 | Test Loss: 310.51059 | Dcor: 0.83437\n",
      "Current Time = 14:47:29\n",
      "Epoch: 190 | Loss: 309.28720 | Test Loss: 305.78809 | Dcor: 0.83738\n",
      "Current Time = 14:47:29\n",
      "Epoch: 200 | Loss: 299.51422 | Test Loss: 299.20001 | Dcor: 0.83838\n",
      "Current Time = 14:47:29\n",
      "Epoch: 210 | Loss: 295.37445 | Test Loss: 293.73187 | Dcor: 0.83959\n",
      "Current Time = 14:47:30\n",
      "Epoch: 220 | Loss: 290.72281 | Test Loss: 289.84155 | Dcor: 0.84090\n",
      "Current Time = 14:47:30\n",
      "Epoch: 230 | Loss: 292.22845 | Test Loss: 289.23367 | Dcor: 0.84270\n",
      "Current Time = 14:47:30\n",
      "Epoch: 240 | Loss: 293.73788 | Test Loss: 290.47342 | Dcor: 0.84109\n",
      "Current Time = 14:47:30\n",
      "Epoch: 250 | Loss: 287.06393 | Test Loss: 285.14108 | Dcor: 0.84479\n",
      "Current Time = 14:47:30\n",
      "Epoch: 260 | Loss: 285.98181 | Test Loss: 286.10748 | Dcor: 0.84256\n",
      "Current Time = 14:47:31\n",
      "Epoch: 270 | Loss: 279.89923 | Test Loss: 282.27994 | Dcor: 0.84669\n",
      "Current Time = 14:47:31\n",
      "Epoch: 280 | Loss: 273.13013 | Test Loss: 273.70670 | Dcor: 0.84463\n",
      "Current Time = 14:47:31\n",
      "Epoch: 290 | Loss: 275.62610 | Test Loss: 271.18231 | Dcor: 0.84596\n",
      "Current Time = 14:47:31\n",
      "Epoch: 300 | Loss: 276.50540 | Test Loss: 272.80295 | Dcor: 0.84594\n",
      "Current Time = 14:47:31\n",
      "Epoch: 310 | Loss: 267.53424 | Test Loss: 268.41602 | Dcor: 0.84649\n",
      "Current Time = 14:47:32\n",
      "Epoch: 320 | Loss: 265.77927 | Test Loss: 266.28632 | Dcor: 0.84764\n",
      "Current Time = 14:47:32\n",
      "Epoch: 330 | Loss: 291.33990 | Test Loss: 292.39072 | Dcor: 0.84992\n",
      "Current Time = 14:47:32\n",
      "Epoch: 340 | Loss: 264.82745 | Test Loss: 271.08926 | Dcor: 0.84978\n",
      "Current Time = 14:47:32\n",
      "Epoch: 350 | Loss: 262.64548 | Test Loss: 262.69638 | Dcor: 0.84930\n",
      "Current Time = 14:47:32\n",
      "Epoch: 360 | Loss: 262.54871 | Test Loss: 262.94824 | Dcor: 0.84847\n",
      "Current Time = 14:47:33\n",
      "Epoch: 370 | Loss: 260.26715 | Test Loss: 261.64670 | Dcor: 0.85033\n",
      "Current Time = 14:47:33\n",
      "Epoch: 380 | Loss: 274.00009 | Test Loss: 271.07242 | Dcor: 0.85170\n",
      "Current Time = 14:47:33\n",
      "Epoch: 390 | Loss: 260.52185 | Test Loss: 258.44885 | Dcor: 0.85028\n",
      "Current Time = 14:47:33\n",
      "0.8543256220632806 0.8500690872043564\n"
     ]
    }
   ],
   "source": [
    "n=x_train.shape[0]\n",
    "p=x_train.shape[1]\n",
    "\n",
    "y_train=y_train.reshape((n,1))\n",
    "y_test=y_test.reshape((y_test.shape[0],1))\n",
    "\n",
    "y_train_original=y_train\n",
    "y_test_original=y_test\n",
    "\n",
    "\n",
    "x_train = torch.tensor(x_train).to(torch.float)\n",
    "x_test = torch.tensor(x_test).to(torch.float)\n",
    "if m==1:\n",
    "    y_train = torch.tensor(y_train).to(torch.float)\n",
    "    y_test = torch.tensor(y_test).to(torch.float)\n",
    "else:\n",
    "    y_trans_train = (y_train - y_train.mean()) / y_train.std()\n",
    "    y_trans_test = (y_test - y_train.mean()) / y_train.std()\n",
    "    for i in range(2,m+1):\n",
    "        y_train_intermediate=y_train**i/math.factorial(i)\n",
    "        y_train_intermediate_norm = (y_train_intermediate - y_train_intermediate.mean()) / y_train_intermediate.std()\n",
    "        y_trans_train = np.concatenate((y_trans_train,y_train_intermediate_norm), axis=1)\n",
    "        y_test_intermediate=y_test**i/math.factorial(i)\n",
    "        y_test_intermediate_norm = (y_test_intermediate - y_train_intermediate.mean()) / y_train_intermediate.std()\n",
    "        y_trans_test = np.concatenate((y_trans_test,y_test_intermediate_norm), axis=1)\n",
    "    y_train = torch.tensor(y_trans_train).to(torch.float)\n",
    "    y_test = torch.tensor(y_trans_test).to(torch.float)\n",
    "\n",
    "\n",
    "#print(x_train[:5],y_trans[:5])\n",
    "mse_loss = nn.MSELoss()\n",
    "# Build model\n",
    "class nn_dr_reg_model(nn.Module):\n",
    "    def __init__(self, input_features, output_features, dim_red_features, hidden_units_d, hidden_units_e, dim_red_layers, ens_reg_layers):\n",
    "        super().__init__()\n",
    "        model_dim_red=[]\n",
    "        model_dim_red.append(nn.Linear(in_features=input_features, \n",
    "                                    out_features=hidden_units_d))\n",
    "        model_dim_red.append(nn.ReLU())\n",
    "        for i in range(1,dim_red_layers):\n",
    "            model_dim_red.append(nn.Linear(in_features=hidden_units_d, \n",
    "                                        out_features=hidden_units_d))\n",
    "            model_dim_red.append(nn.ReLU())\n",
    "        model_dim_red.append(nn.Linear(in_features=hidden_units_d, \n",
    "                                    out_features=dim_red_features))\n",
    "        self.dim_red_layer_stack = nn.Sequential(*model_dim_red)\n",
    "\n",
    "        model_ens_reg=[]\n",
    "        model_ens_reg.append(nn.Linear(in_features=dim_red_features, out_features=hidden_units_e))\n",
    "        model_ens_reg.append(nn.ReLU())\n",
    "        for i in range(1,ens_reg_layers):\n",
    "            model_ens_reg.append(nn.Linear(in_features=hidden_units_e, out_features=hidden_units_e))\n",
    "            model_ens_reg.append(nn.ReLU())\n",
    "        model_ens_reg.append(nn.Linear(in_features=hidden_units_e, out_features=output_features))\n",
    "        self.ens_reg_layer_stack = nn.Sequential(*model_ens_reg)\n",
    "\n",
    "    def forward(self, x):\n",
    "        suff_predictor = self.dim_red_layer_stack(x)\n",
    "        ens_output = self.ens_reg_layer_stack(suff_predictor)\n",
    "        return ens_output, suff_predictor\n",
    "\n",
    "\n",
    "# Create an instance of BlobModel and send it to the target device\n",
    "model_nn = nn_dr_reg_model(input_features=p, \n",
    "                        output_features=m, \n",
    "                        dim_red_features=res_d, \n",
    "                        hidden_units_d=r1,\n",
    "                        hidden_units_e=r2,\n",
    "                        dim_red_layers=l1, \n",
    "                        ens_reg_layers=l2\n",
    "                        ).to(device)\n",
    "model_nn\n",
    "optimizer = torch.optim.Adam(model_nn.parameters(), \n",
    "                            lr=0.001)\n",
    "epochs = 400\n",
    "x_train, y_train = x_train.to(device), y_train.to(device)\n",
    "x_test = x_test.to(device)\n",
    "for epoch in range(epochs):\n",
    "    ### Training\n",
    "    model_nn.train()\n",
    "\n",
    "    # 1. Forward pass\n",
    "    y_pred_train, y_suff_train = model_nn(x_train) \n",
    "\n",
    "    # 2. Calculate loss and accuracy\n",
    "    loss = mse_loss(y_pred_train, y_train) \n",
    "\n",
    "    # 3. Optimizer zero grad\n",
    "    optimizer.zero_grad()\n",
    "\n",
    "    # 4. Loss backwards\n",
    "    loss.backward()\n",
    "\n",
    "    # 5. Optimizer step\n",
    "    optimizer.step()\n",
    "\n",
    "    ### Testing\n",
    "    model_nn.eval()\n",
    "\n",
    "    y_pred_test, y_suff_test = model_nn(x_test)\n",
    "    loss_test = mse_loss(y_pred_test, y_test) \n",
    "    dcor_test = dcor.distance_correlation(np.float64(y_suff_test.detach().numpy()),np.float64(y_test))\n",
    "\n",
    "    if epoch % 10 == 0:\n",
    "        print(f\"Epoch: {epoch} | Loss: {loss:.5f} | Test Loss: {loss_test:.5f} | Dcor: {dcor_test:.5f}\")\n",
    "        now = datetime.now()\n",
    "        current_time = now.strftime(\"%H:%M:%S\")\n",
    "        print(\"Current Time =\", current_time)\n",
    "model_nn.eval()\n",
    "with torch.inference_mode():\n",
    "    y_pred_train, y_suff_train = model_nn(x_train)\n",
    "    y_pred_test, y_suff_test = model_nn(x_test)\n",
    "y_suff_train=y_suff_train.numpy()\n",
    "y_suff_test=y_suff_test.numpy()\n",
    "\n",
    "y_pred_train=y_pred_train.numpy()\n",
    "y_pred_test=y_pred_test.numpy()\n",
    "\n",
    "\n",
    "\n",
    "t1_stop = time.time() \n",
    "t2_stop = process_time()\n",
    "\n",
    "\n",
    "print(dcor.distance_correlation(np.float64(y_suff_train),np.float64(y_train)),\n",
    "     dcor.distance_correlation(np.float64(y_suff_test),np.float64(y_test)))\n"
   ]
  },
  {
   "cell_type": "code",
   "execution_count": 10,
   "id": "ce63864e-4b46-4843-845d-bff1a577e2b7",
   "metadata": {},
   "outputs": [
    {
     "name": "stdout",
     "output_type": "stream",
     "text": [
      "[7.6470420360565186, 60.546008965000006]\n"
     ]
    }
   ],
   "source": [
    "time_use=[t1_stop-t1_start,t2_stop-t2_start]\n",
    "print(time_use)\n",
    "time_use_df=pd.DataFrame(time_use)\n",
    "time_use_df.to_csv(\"./application-results/time-1-1.csv\")\n"
   ]
  },
  {
   "cell_type": "code",
   "execution_count": 11,
   "id": "3db139c1",
   "metadata": {},
   "outputs": [],
   "source": [
    "#dcor_list_df\n",
    "#dcor.distance_correlation(np.float64(y_suff_test),np.float64(z_test.to_numpy()[:,0]),method=\"naive\")"
   ]
  },
  {
   "cell_type": "code",
   "execution_count": 12,
   "id": "ee9ddabb-5fa4-44ca-9454-c7642ee55c22",
   "metadata": {},
   "outputs": [
    {
     "data": {
      "image/png": "[encoded data removed]",
      "text/plain": [
       "<Figure size 640x480 with 1 Axes>"
      ]
     },
     "metadata": {},
     "output_type": "display_data"
    }
   ],
   "source": [
    "plt.plot(y_suff_train, y_train_original, 'o', color=\"C0\")\n",
    "plt.xlabel(\"Sufficient predicor\")\n",
    "plt.ylabel(\"Response\")\n",
    "plt.title(\"Results for training set\")\n",
    "plt.savefig(\"application-training-BENN-1-1.pdf\", format=\"pdf\", bbox_inches=\"tight\")\n",
    "plt.show()"
   ]
  },
  {
   "cell_type": "code",
   "execution_count": 13,
   "id": "efd5fea4-2807-4390-85b4-71cf51773ee4",
   "metadata": {},
   "outputs": [
    {
     "data": {
      "image/png": "[encoded data removed]",
      "text/plain": [
       "<Figure size 640x480 with 1 Axes>"
      ]
     },
     "metadata": {},
     "output_type": "display_data"
    }
   ],
   "source": [
    "plt.plot(y_suff_test, y_test_original, 'o', color=\"C1\")\n",
    "plt.xlabel(\"Sufficient predicor\")\n",
    "plt.ylabel(\"Response\")\n",
    "plt.title(\"Results for testing set\")\n",
    "plt.savefig(\"application-testing-BENN-1-1.pdf\", format=\"pdf\", bbox_inches=\"tight\")\n",
    "plt.show()"
   ]
  },
  {
   "cell_type": "code",
   "execution_count": 14,
   "id": "3c269471-400e-4f86-bc04-43d4321a7cf0",
   "metadata": {},
   "outputs": [],
   "source": [
    "y_suff_train_df=pd.DataFrame(y_suff_train)\n",
    "y_suff_test_df=pd.DataFrame(y_suff_test)\n",
    "y_suff_train_df.to_csv(\"./application-results/y_suff_train_BENN-1-1.csv\")\n",
    "y_suff_test_df.to_csv(\"./application-results/y_suff_test_BENN-1-1.csv\")"
   ]
  },
  {
   "cell_type": "code",
   "execution_count": 15,
   "id": "e797824b-bcda-4b59-bd56-d6036223d08c",
   "metadata": {},
   "outputs": [],
   "source": [
    "dcor_res=[dcor.distance_correlation(np.float64(y_suff_train),np.float64(y_train)),\n",
    "          dcor.distance_correlation(np.float64(y_suff_test),np.float64(y_test))]\n",
    "dcor_res_df=pd.DataFrame(dcor_res)\n",
    "dcor_res_df.to_csv(\"./application-results/dcor_res_BENN-1-1.csv\")"
   ]
  },
  {
   "cell_type": "code",
   "execution_count": null,
   "id": "548afea9-f5c5-4fa5-a476-57affbae7fd9",
   "metadata": {},
   "outputs": [],
   "source": []
  },
  {
   "cell_type": "code",
   "execution_count": 16,
   "id": "9bde6300-5115-407e-882f-9d834941dd4d",
   "metadata": {},
   "outputs": [],
   "source": [
    "#dcor.distance_correlation(np.float64(y_suff_test.detach().numpy()),np.float64(z_test.to_numpy()),method=\"avl\")"
   ]
  },
  {
   "cell_type": "code",
   "execution_count": 17,
   "id": "6e72e0db-af2d-4c00-85e1-2f69f8be9ca8",
   "metadata": {},
   "outputs": [],
   "source": [
    "#dcor.distance_correlation(np.float64(y_suff_test.detach().numpy()),np.float64(z_test.to_numpy()),method=\"naive\")"
   ]
  },
  {
   "cell_type": "code",
   "execution_count": null,
   "id": "18051330-bc5c-40fc-b40f-2e3ec8b75f09",
   "metadata": {},
   "outputs": [],
   "source": []
  }
 ],
 "metadata": {
  "kernelspec": {
   "display_name": "PyTorch_conda",
   "language": "python",
   "name": "torch_env"
  },
  "language_info": {
   "codemirror_mode": {
    "name": "ipython",
    "version": 3
   },
   "file_extension": ".py",
   "mimetype": "text/x-python",
   "name": "python",
   "nbconvert_exporter": "python",
   "pygments_lexer": "ipython3",
   "version": "3.11.5"
  }
 },
 "nbformat": 4,
 "nbformat_minor": 5
}
