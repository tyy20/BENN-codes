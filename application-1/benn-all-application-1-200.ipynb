{
 "cells": [
  {
   "cell_type": "code",
   "execution_count": 1,
   "id": "0a7484cc-6b31-4d27-b17b-b3a89569d6e6",
   "metadata": {},
   "outputs": [
    {
     "name": "stderr",
     "output_type": "stream",
     "text": [
      "[rank: 0] Global seed set to 42\n"
     ]
    }
   ],
   "source": [
    "import numpy as np\n",
    "import pandas as pd\n",
    "import math\n",
    "\n",
    "import torch\n",
    "import matplotlib.pyplot as plt\n",
    "from sklearn.model_selection import train_test_split\n",
    "\n",
    "from pytorch_lightning import seed_everything\n",
    "seed_everything(42, workers=True)\n",
    "torch.use_deterministic_algorithms(True, warn_only=True)\n",
    "\n",
    "\n",
    "import dcor\n",
    "\n",
    "from datetime import datetime\n",
    "\n",
    "from torch import nn\n",
    "\n",
    "import argparse\n",
    "\n",
    "import os \n",
    "\n",
    "import time\n",
    "from time import process_time\n",
    "\n"
   ]
  },
  {
   "cell_type": "code",
   "execution_count": null,
   "id": "198da9c3-47d6-495f-8925-5e4216b1b780",
   "metadata": {},
   "outputs": [],
   "source": []
  },
  {
   "cell_type": "code",
   "execution_count": null,
   "id": "8acc760e-de29-4584-a10d-501fca144597",
   "metadata": {},
   "outputs": [],
   "source": []
  },
  {
   "cell_type": "code",
   "execution_count": 2,
   "id": "5931e903-879c-4291-baed-9fd6bd432ae0",
   "metadata": {},
   "outputs": [],
   "source": [
    "x_train=pd.read_csv(\"./application-data/x_train.csv\")\n",
    "x_train=x_train.drop('Unnamed: 0', axis=1)\n",
    "x_train=x_train.to_numpy()\n",
    "x_test=pd.read_csv(\"./application-data/x_test.csv\")\n",
    "x_test=x_test.drop('Unnamed: 0', axis=1)\n",
    "x_test=x_test.to_numpy()\n",
    "y_train=pd.read_csv(\"./application-data/y_train.csv\")\n",
    "y_train=y_train.drop('Unnamed: 0', axis=1)\n",
    "y_train=y_train.to_numpy()\n",
    "y_test=pd.read_csv(\"./application-data/y_test.csv\")\n",
    "y_test=y_test.drop('Unnamed: 0', axis=1)\n",
    "y_test=y_test.to_numpy()"
   ]
  },
  {
   "cell_type": "code",
   "execution_count": 3,
   "id": "d636a47a-cebf-438a-b29b-ba467c0900eb",
   "metadata": {},
   "outputs": [],
   "source": [
    "l1=2\n",
    "l2=2\n",
    "r1=50\n",
    "r2=400\n",
    "res_d=1\n",
    "m=200"
   ]
  },
  {
   "cell_type": "code",
   "execution_count": 4,
   "id": "50359073-4520-42d2-bcc6-63ce3e3ca145",
   "metadata": {},
   "outputs": [
    {
     "data": {
      "text/plain": [
       "'cpu'"
      ]
     },
     "execution_count": 4,
     "metadata": {},
     "output_type": "execute_result"
    }
   ],
   "source": [
    "# Create device agnostic code\n",
    "device = \"cuda\" if torch.cuda.is_available() else \"cpu\"\n",
    "device"
   ]
  },
  {
   "cell_type": "code",
   "execution_count": 5,
   "id": "d1fd3b09-e12c-4172-973e-11a56a2d1d38",
   "metadata": {},
   "outputs": [],
   "source": [
    "t1_start = time.time() \n",
    "t2_start = process_time()"
   ]
  },
  {
   "cell_type": "code",
   "execution_count": 6,
   "id": "d366bfb7-c754-4276-b46f-5b7e6f87d566",
   "metadata": {},
   "outputs": [],
   "source": [
    "def kernel_func(bw, y1, y2):\n",
    "    return math.exp(-((y1-y2)/bw)**2/2)"
   ]
  },
  {
   "cell_type": "code",
   "execution_count": 7,
   "id": "390debc5-3510-490c-8025-c6fc5ae1aec5",
   "metadata": {},
   "outputs": [],
   "source": [
    "y_list=np.random.uniform(low=y_train.mean()-2*y_train.std(),\n",
    "                         high=y_train.mean()+2*y_train.std(),\n",
    "                         size=m)\n",
    "bw=y_train.std()"
   ]
  },
  {
   "cell_type": "code",
   "execution_count": 8,
   "id": "d9789e41-03c7-4b01-95e3-d84be7b61f05",
   "metadata": {},
   "outputs": [],
   "source": [
    "y_trans_train=[]\n",
    "for i in range(y_train.shape[0]):\n",
    "    y_trans_current=[]\n",
    "    for j in range(m):\n",
    "        y_trans_current.append(kernel_func(bw,y_list[j],y_train[i][0]))\n",
    "    y_trans_train.append(y_trans_current)\n",
    "y_trans_train=np.array(y_trans_train)\n",
    "y_trans_test=[]\n",
    "for i in range(y_test.shape[0]):\n",
    "    y_trans_current=[]\n",
    "    for j in range(m):\n",
    "        y_trans_current.append(kernel_func(bw,y_list[j],y_test[i][0]))\n",
    "    y_trans_test.append(y_trans_current)\n",
    "y_trans_test=np.array(y_trans_test)"
   ]
  },
  {
   "cell_type": "code",
   "execution_count": 9,
   "id": "104928d9-de5e-497b-8ee8-4c99e5b8e1f0",
   "metadata": {},
   "outputs": [],
   "source": [
    "#z_test[0,:]"
   ]
  },
  {
   "cell_type": "code",
   "execution_count": 10,
   "id": "3e0c665f-c218-4553-96f8-80fd29f1114e",
   "metadata": {},
   "outputs": [
    {
     "name": "stdout",
     "output_type": "stream",
     "text": [
      "Epoch: 0 | Loss: 255.97311 | Test Loss: 26.12184 | Dcor: 0.57855\n",
      "Current Time = 23:15:02\n",
      "Epoch: 10 | Loss: 1.67336 | Test Loss: 1.46860 | Dcor: 0.29077\n",
      "Current Time = 23:16:05\n",
      "Epoch: 20 | Loss: 0.39873 | Test Loss: 0.39737 | Dcor: 0.35793\n",
      "Current Time = 23:17:06\n",
      "Epoch: 30 | Loss: 0.26398 | Test Loss: 0.26582 | Dcor: 0.45474\n",
      "Current Time = 23:18:09\n",
      "Epoch: 40 | Loss: 0.20728 | Test Loss: 0.19886 | Dcor: 0.46162\n",
      "Current Time = 23:19:10\n",
      "Epoch: 50 | Loss: 0.15651 | Test Loss: 0.15324 | Dcor: 0.32711\n",
      "Current Time = 23:20:12\n",
      "Epoch: 60 | Loss: 0.13506 | Test Loss: 0.13148 | Dcor: 0.26993\n",
      "Current Time = 23:21:14\n",
      "Epoch: 70 | Loss: 0.12403 | Test Loss: 0.12122 | Dcor: 0.29624\n",
      "Current Time = 23:22:15\n",
      "Epoch: 80 | Loss: 0.11786 | Test Loss: 0.11557 | Dcor: 0.29758\n",
      "Current Time = 23:23:16\n",
      "Epoch: 90 | Loss: 0.11258 | Test Loss: 0.11027 | Dcor: 0.33167\n",
      "Current Time = 23:24:18\n",
      "Epoch: 100 | Loss: 0.10841 | Test Loss: 0.10626 | Dcor: 0.40722\n",
      "Current Time = 23:25:19\n",
      "Epoch: 110 | Loss: 0.10650 | Test Loss: 0.10459 | Dcor: 0.44121\n",
      "Current Time = 23:26:20\n",
      "Epoch: 120 | Loss: 0.10579 | Test Loss: 0.10382 | Dcor: 0.47106\n",
      "Current Time = 23:27:22\n",
      "Epoch: 130 | Loss: 0.10512 | Test Loss: 0.10310 | Dcor: 0.49451\n",
      "Current Time = 23:28:23\n",
      "Epoch: 140 | Loss: 0.10462 | Test Loss: 0.10255 | Dcor: 0.51321\n",
      "Current Time = 23:29:25\n",
      "Epoch: 150 | Loss: 0.10416 | Test Loss: 0.10206 | Dcor: 0.53101\n",
      "Current Time = 23:30:26\n",
      "Epoch: 160 | Loss: 0.10366 | Test Loss: 0.10150 | Dcor: 0.55063\n",
      "Current Time = 23:31:28\n",
      "Epoch: 170 | Loss: 0.10313 | Test Loss: 0.10097 | Dcor: 0.55887\n",
      "Current Time = 23:32:29\n",
      "Epoch: 180 | Loss: 0.10287 | Test Loss: 0.10081 | Dcor: 0.57085\n",
      "Current Time = 23:33:31\n",
      "Epoch: 190 | Loss: 0.11057 | Test Loss: 0.10961 | Dcor: 0.57637\n",
      "Current Time = 23:34:32\n",
      "Epoch: 200 | Loss: 0.10318 | Test Loss: 0.10367 | Dcor: 0.57321\n",
      "Current Time = 23:35:34\n",
      "Epoch: 210 | Loss: 0.10332 | Test Loss: 0.10005 | Dcor: 0.59619\n",
      "Current Time = 23:36:35\n",
      "Epoch: 220 | Loss: 0.10207 | Test Loss: 0.10010 | Dcor: 0.61097\n",
      "Current Time = 23:37:37\n",
      "Epoch: 230 | Loss: 0.10153 | Test Loss: 0.09939 | Dcor: 0.61703\n",
      "Current Time = 23:38:38\n",
      "Epoch: 240 | Loss: 0.10132 | Test Loss: 0.09898 | Dcor: 0.62865\n",
      "Current Time = 23:39:40\n",
      "Epoch: 250 | Loss: 0.10096 | Test Loss: 0.09868 | Dcor: 0.63595\n",
      "Current Time = 23:41:02\n",
      "Epoch: 260 | Loss: 0.10069 | Test Loss: 0.09838 | Dcor: 0.64620\n",
      "Current Time = 23:42:34\n",
      "Epoch: 270 | Loss: 0.10042 | Test Loss: 0.09810 | Dcor: 0.65354\n",
      "Current Time = 23:44:02\n",
      "Epoch: 280 | Loss: 0.10015 | Test Loss: 0.09780 | Dcor: 0.66180\n",
      "Current Time = 23:45:32\n",
      "Epoch: 290 | Loss: 0.09988 | Test Loss: 0.09751 | Dcor: 0.66946\n",
      "Current Time = 23:47:09\n",
      "Epoch: 300 | Loss: 0.09961 | Test Loss: 0.09721 | Dcor: 0.67632\n",
      "Current Time = 23:48:53\n",
      "Epoch: 310 | Loss: 0.09932 | Test Loss: 0.09691 | Dcor: 0.68364\n",
      "Current Time = 23:50:31\n",
      "Epoch: 320 | Loss: 0.09903 | Test Loss: 0.09659 | Dcor: 0.69127\n",
      "Current Time = 23:52:10\n",
      "Epoch: 330 | Loss: 0.09873 | Test Loss: 0.09626 | Dcor: 0.69874\n",
      "Current Time = 23:53:48\n",
      "Epoch: 340 | Loss: 0.09843 | Test Loss: 0.09593 | Dcor: 0.70533\n",
      "Current Time = 23:54:51\n",
      "Epoch: 350 | Loss: 0.09812 | Test Loss: 0.09562 | Dcor: 0.71113\n",
      "Current Time = 23:55:52\n",
      "Epoch: 360 | Loss: 0.09782 | Test Loss: 0.09531 | Dcor: 0.71600\n",
      "Current Time = 23:56:55\n",
      "Epoch: 370 | Loss: 0.09751 | Test Loss: 0.09499 | Dcor: 0.72050\n",
      "Current Time = 23:57:57\n",
      "Epoch: 380 | Loss: 0.09721 | Test Loss: 0.09468 | Dcor: 0.72412\n",
      "Current Time = 23:58:59\n",
      "Epoch: 390 | Loss: 0.09690 | Test Loss: 0.09436 | Dcor: 0.72826\n",
      "Current Time = 00:00:02\n",
      "0.7341032414389884 0.7315944266274346\n"
     ]
    }
   ],
   "source": [
    "n=x_train.shape[0]\n",
    "p=x_train.shape[1]\n",
    "\n",
    "y_train=y_train.reshape((n,1))\n",
    "y_test=y_test.reshape((y_test.shape[0],1))\n",
    "\n",
    "y_train_original=y_train\n",
    "y_test_original=y_test\n",
    "\n",
    "\n",
    "x_train = torch.tensor(x_train).to(torch.float)\n",
    "x_test = torch.tensor(x_test).to(torch.float)\n",
    "y_train = torch.tensor(y_trans_train).to(torch.float)\n",
    "y_test = torch.tensor(y_trans_test).to(torch.float)\n",
    "\n",
    "\n",
    "#print(x_train[:5],y_trans[:5])\n",
    "mse_loss = nn.MSELoss()\n",
    "# Build model\n",
    "class nn_dr_reg_model(nn.Module):\n",
    "    def __init__(self, input_features, output_features, dim_red_features, hidden_units_d, hidden_units_e, dim_red_layers, ens_reg_layers):\n",
    "        super().__init__()\n",
    "        model_dim_red=[]\n",
    "        model_dim_red.append(nn.Linear(in_features=input_features, \n",
    "                                    out_features=hidden_units_d))\n",
    "        model_dim_red.append(nn.ReLU())\n",
    "        for i in range(1,dim_red_layers):\n",
    "            model_dim_red.append(nn.Linear(in_features=hidden_units_d, \n",
    "                                        out_features=hidden_units_d))\n",
    "            model_dim_red.append(nn.ReLU())\n",
    "        model_dim_red.append(nn.Linear(in_features=hidden_units_d, \n",
    "                                    out_features=dim_red_features))\n",
    "        self.dim_red_layer_stack = nn.Sequential(*model_dim_red)\n",
    "\n",
    "        model_ens_reg=[]\n",
    "        model_ens_reg.append(nn.Linear(in_features=dim_red_features, out_features=hidden_units_e))\n",
    "        model_ens_reg.append(nn.ReLU())\n",
    "        for i in range(1,ens_reg_layers):\n",
    "            model_ens_reg.append(nn.Linear(in_features=hidden_units_e, out_features=hidden_units_e))\n",
    "            model_ens_reg.append(nn.ReLU())\n",
    "        model_ens_reg.append(nn.Linear(in_features=hidden_units_e, out_features=output_features))\n",
    "        self.ens_reg_layer_stack = nn.Sequential(*model_ens_reg)\n",
    "\n",
    "    def forward(self, x):\n",
    "        suff_predictor = self.dim_red_layer_stack(x)\n",
    "        ens_output = self.ens_reg_layer_stack(suff_predictor)\n",
    "        return ens_output, suff_predictor\n",
    "\n",
    "\n",
    "# Create an instance of BlobModel and send it to the target device\n",
    "model_nn = nn_dr_reg_model(input_features=p, \n",
    "                        output_features=m, \n",
    "                        dim_red_features=res_d, \n",
    "                        hidden_units_d=r1,\n",
    "                        hidden_units_e=r2,\n",
    "                        dim_red_layers=l1, \n",
    "                        ens_reg_layers=l2\n",
    "                        ).to(device)\n",
    "model_nn\n",
    "optimizer = torch.optim.Adam(model_nn.parameters(), \n",
    "                            lr=0.001)\n",
    "epochs = 400\n",
    "x_train, y_train = x_train.to(device), y_train.to(device)\n",
    "x_test = x_test.to(device)\n",
    "for epoch in range(epochs):\n",
    "    ### Training\n",
    "    model_nn.train()\n",
    "\n",
    "    # 1. Forward pass\n",
    "    y_pred_train, y_suff_train = model_nn(x_train) \n",
    "\n",
    "    # 2. Calculate loss and accuracy\n",
    "    loss = mse_loss(y_pred_train, y_train) \n",
    "\n",
    "    # 3. Optimizer zero grad\n",
    "    optimizer.zero_grad()\n",
    "\n",
    "    # 4. Loss backwards\n",
    "    loss.backward()\n",
    "\n",
    "    # 5. Optimizer step\n",
    "    optimizer.step()\n",
    "\n",
    "    ### Testing\n",
    "    model_nn.eval()\n",
    "\n",
    "    y_pred_test, y_suff_test = model_nn(x_test)\n",
    "    loss_test = mse_loss(y_pred_test, y_test) \n",
    "    dcor_test = dcor.distance_correlation(np.float64(y_suff_test.detach().numpy()),np.float64(y_test))\n",
    "\n",
    "    if epoch % 10 == 0:\n",
    "        print(f\"Epoch: {epoch} | Loss: {loss:.5f} | Test Loss: {loss_test:.5f} | Dcor: {dcor_test:.5f}\")\n",
    "        now = datetime.now()\n",
    "        current_time = now.strftime(\"%H:%M:%S\")\n",
    "        print(\"Current Time =\", current_time)\n",
    "model_nn.eval()\n",
    "with torch.inference_mode():\n",
    "    y_pred_train, y_suff_train = model_nn(x_train)\n",
    "    y_pred_test, y_suff_test = model_nn(x_test)\n",
    "y_suff_train=y_suff_train.numpy()\n",
    "y_suff_test=y_suff_test.numpy()\n",
    "\n",
    "y_pred_train=y_pred_train.numpy()\n",
    "y_pred_test=y_pred_test.numpy()\n",
    "\n",
    "\n",
    "\n",
    "t1_stop = time.time() \n",
    "t2_stop = process_time()\n",
    "\n",
    "\n",
    "print(dcor.distance_correlation(np.float64(y_suff_train),np.float64(y_train)),\n",
    "     dcor.distance_correlation(np.float64(y_suff_test),np.float64(y_test)))\n"
   ]
  },
  {
   "cell_type": "code",
   "execution_count": 11,
   "id": "ce63864e-4b46-4843-845d-bff1a577e2b7",
   "metadata": {},
   "outputs": [
    {
     "name": "stdout",
     "output_type": "stream",
     "text": [
      "[2765.9446544647217, 3913.704200509]\n"
     ]
    }
   ],
   "source": [
    "time_use=[t1_stop-t1_start,t2_stop-t2_start]\n",
    "print(time_use)\n",
    "time_use_df=pd.DataFrame(time_use)\n",
    "time_use_df.to_csv(\"./application-results/time-1-200.csv\")"
   ]
  },
  {
   "cell_type": "code",
   "execution_count": 12,
   "id": "3db139c1",
   "metadata": {},
   "outputs": [],
   "source": [
    "#dcor_list_df\n",
    "#dcor.distance_correlation(np.float64(y_suff_test),np.float64(z_test.to_numpy()[:,0]),method=\"naive\")"
   ]
  },
  {
   "cell_type": "code",
   "execution_count": 13,
   "id": "ee9ddabb-5fa4-44ca-9454-c7642ee55c22",
   "metadata": {},
   "outputs": [
    {
     "data": {
      "image/png": "[encoded data removed]",
      "text/plain": [
       "<Figure size 640x480 with 1 Axes>"
      ]
     },
     "metadata": {},
     "output_type": "display_data"
    }
   ],
   "source": [
    "plt.plot(y_suff_train, y_train_original, 'o', color=\"C0\")\n",
    "plt.xlabel(\"Sufficient predicor\")\n",
    "plt.ylabel(\"Response\")\n",
    "plt.title(\"Results for training set\")\n",
    "plt.savefig(\"application-training-BENN-1-200.pdf\", format=\"pdf\", bbox_inches=\"tight\")\n",
    "plt.show()"
   ]
  },
  {
   "cell_type": "code",
   "execution_count": 14,
   "id": "efd5fea4-2807-4390-85b4-71cf51773ee4",
   "metadata": {},
   "outputs": [
    {
     "data": {
      "image/png": "[encoded data removed]",
      "text/plain": [
       "<Figure size 640x480 with 1 Axes>"
      ]
     },
     "metadata": {},
     "output_type": "display_data"
    }
   ],
   "source": [
    "plt.plot(y_suff_test, y_test_original, 'o', color=\"C1\")\n",
    "plt.xlabel(\"Sufficient predicor\")\n",
    "plt.ylabel(\"Response\")\n",
    "plt.title(\"Results for testing set\")\n",
    "plt.savefig(\"application-testing-BENN-1-200.pdf\", format=\"pdf\", bbox_inches=\"tight\")\n",
    "plt.show()"
   ]
  },
  {
   "cell_type": "code",
   "execution_count": 15,
   "id": "3c269471-400e-4f86-bc04-43d4321a7cf0",
   "metadata": {},
   "outputs": [],
   "source": [
    "y_suff_train_df=pd.DataFrame(y_suff_train)\n",
    "y_suff_test_df=pd.DataFrame(y_suff_test)\n",
    "y_suff_train_df.to_csv(\"./application-results/y_suff_train_BENN-1-200.csv\")\n",
    "y_suff_test_df.to_csv(\"./application-results/y_suff_test_BENN-1-200.csv\")"
   ]
  },
  {
   "cell_type": "code",
   "execution_count": 16,
   "id": "e797824b-bcda-4b59-bd56-d6036223d08c",
   "metadata": {},
   "outputs": [],
   "source": [
    "dcor_res=[dcor.distance_correlation(np.float64(y_suff_train),np.float64(y_train)),\n",
    "          dcor.distance_correlation(np.float64(y_suff_test),np.float64(y_test))]\n",
    "dcor_res_df=pd.DataFrame(dcor_res)\n",
    "dcor_res_df.to_csv(\"./application-results/dcor_res_BENN-1-200.csv\")"
   ]
  },
  {
   "cell_type": "code",
   "execution_count": null,
   "id": "548afea9-f5c5-4fa5-a476-57affbae7fd9",
   "metadata": {},
   "outputs": [],
   "source": []
  },
  {
   "cell_type": "code",
   "execution_count": 17,
   "id": "9bde6300-5115-407e-882f-9d834941dd4d",
   "metadata": {},
   "outputs": [],
   "source": [
    "#dcor.distance_correlation(np.float64(y_suff_test.detach().numpy()),np.float64(z_test.to_numpy()),method=\"avl\")"
   ]
  },
  {
   "cell_type": "code",
   "execution_count": 18,
   "id": "6e72e0db-af2d-4c00-85e1-2f69f8be9ca8",
   "metadata": {},
   "outputs": [],
   "source": [
    "#dcor.distance_correlation(np.float64(y_suff_test.detach().numpy()),np.float64(z_test.to_numpy()),method=\"naive\")"
   ]
  },
  {
   "cell_type": "code",
   "execution_count": null,
   "id": "18051330-bc5c-40fc-b40f-2e3ec8b75f09",
   "metadata": {},
   "outputs": [],
   "source": []
  }
 ],
 "metadata": {
  "kernelspec": {
   "display_name": "PyTorch_conda",
   "language": "python",
   "name": "torch_env"
  },
  "language_info": {
   "codemirror_mode": {
    "name": "ipython",
    "version": 3
   },
   "file_extension": ".py",
   "mimetype": "text/x-python",
   "name": "python",
   "nbconvert_exporter": "python",
   "pygments_lexer": "ipython3",
   "version": "3.11.5"
  }
 },
 "nbformat": 4,
 "nbformat_minor": 5
}
