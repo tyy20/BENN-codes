{
 "cells": [
  {
   "cell_type": "code",
   "execution_count": null,
   "id": "0a7484cc-6b31-4d27-b17b-b3a89569d6e6",
   "metadata": {},
   "outputs": [],
   "source": [
    "import numpy as np\n",
    "import pandas as pd\n",
    "import math\n",
    "\n",
    "import torch\n",
    "import matplotlib.pyplot as plt\n",
    "from sklearn.model_selection import train_test_split\n",
    "\n",
    "from pytorch_lightning import seed_everything\n",
    "seed_everything(42, workers=True)\n",
    "torch.use_deterministic_algorithms(True, warn_only=True)\n",
    "\n",
    "\n",
    "import dcor\n",
    "\n",
    "from datetime import datetime\n",
    "\n",
    "from torch import nn\n",
    "\n",
    "import argparse\n",
    "\n",
    "import os \n",
    "\n",
    "import time\n",
    "from time import process_time\n",
    "\n"
   ]
  },
  {
   "cell_type": "code",
   "execution_count": null,
   "id": "d636a47a-cebf-438a-b29b-ba467c0900eb",
   "metadata": {},
   "outputs": [],
   "source": [
    "parser = argparse.ArgumentParser(description=\"Running BENN\")\n",
    "parser.add_argument('--model1', default=1, type = int, help = 'model1')\n",
    "parser.add_argument('--model2', default=1, type = int, help = 'model2')\n",
    "parser.add_argument('--n', default=1000, type = int, help = 'n')\n",
    "parser.add_argument('--m', default=1, type = int, help = 'm')\n",
    "parser.add_argument('--l1', default=2, type = int, help = 'l1')\n",
    "parser.add_argument('--l2', default=2, type = int, help = 'l2')\n",
    "parser.add_argument('--r1', default=50, type = int, help = 'r1')\n",
    "parser.add_argument('--r2', default=50, type = int, help = 'r2')\n",
    "parser.add_argument('--d', default=1, type = int, help = 'd')\n",
    "parser.add_argument('--t', default=1, type = int, help = 't')\n",
    "args = parser.parse_args()\n",
    "model1 = args.model1\n",
    "model2 = args.model2\n",
    "n = args.n\n",
    "m = args.m\n",
    "l1 = args.l1\n",
    "l2 = args.l2\n",
    "r1 = args.r1\n",
    "r2 = args.r2\n",
    "res_d = args.d\n",
    "t = args.t\n",
    "ep = args.ep\n",
    "print(model1, model2, n, m, l1, l2, r1, r2, res_d, t, ep)"
   ]
  },
  {
   "cell_type": "code",
   "execution_count": null,
   "id": "50359073-4520-42d2-bcc6-63ce3e3ca145",
   "metadata": {},
   "outputs": [],
   "source": [
    "# Create device agnostic code\n",
    "device = \"cuda\" if torch.cuda.is_available() else \"cpu\"\n",
    "device"
   ]
  },
  {
   "cell_type": "code",
   "execution_count": null,
   "id": "104928d9-de5e-497b-8ee8-4c99e5b8e1f0",
   "metadata": {},
   "outputs": [],
   "source": [
    "## setting directories (path requires modification)\n",
    "directory=\"./results-BENN-unified-std/result-\" + str(model1) + \"-\" + str(model2) + \"-\" + str(m) + \"-\" + str(n)\n",
    "if not os.path.exists(directory):\n",
    "    os.makedirs(directory)"
   ]
  },
  {
   "cell_type": "code",
   "execution_count": null,
   "id": "e5ceccba-9280-4cef-9e74-cbf79531efd6",
   "metadata": {},
   "outputs": [],
   "source": [
    "## loading the dataset (path requires modification)\n",
    "x_train=pd.read_csv(\"./data/model\" + str(model1) + \"-\" + str(model2) + \"-\" + str(n) + \"/x_train_\" + str(t) + \".csv\")\n",
    "x_train=x_train.drop('Unnamed: 0', axis=1)\n",
    "y_train=pd.read_csv(\"./data/model\" + str(model1) + \"-\" + str(model2) + \"-\" + str(n) + \"/y_train_\" + str(t) + \".csv\")\n",
    "y_train=y_train.drop('Unnamed: 0', axis=1)\n",
    "x_test=pd.read_csv(\"./data/model\" + str(model1) + \"-\" + str(model2) + \"-\" + str(n) + \"/x_test_\" + str(t) + \".csv\")\n",
    "x_test=x_test.drop('Unnamed: 0', axis=1)\n",
    "y_test=pd.read_csv(\"./data/model\" + str(model1) + \"-\" + str(model2) + \"-\" + str(n) + \"/y_test_\" + str(t) + \".csv\")\n",
    "y_test=y_test.drop('Unnamed: 0', axis=1)"
   ]
  },
  {
   "cell_type": "code",
   "execution_count": null,
   "id": "aa005ada-272d-4711-9b6a-ff14b6a4d6a0",
   "metadata": {},
   "outputs": [],
   "source": [
    "## z_test is the true sufficient predictor in the simulations for evaluation purposes\n",
    "## remove the lines for z_test if no evaluation is needed\n",
    "z_test=pd.read_csv(\"./data/model\" + str(model1) + \"-\" + str(model2) + \"-\" + str(n) + \"/z_test_\" + str(t) + \".csv\")\n",
    "z_test=z_test.drop('Unnamed: 0', axis=1)"
   ]
  },
  {
   "cell_type": "code",
   "execution_count": null,
   "id": "fe4f17bc-d18a-41e8-bca2-628ee517fc9f",
   "metadata": {},
   "outputs": [],
   "source": [
    "n=x_train.shape[0]\n",
    "p=x_train.shape[1]"
   ]
  },
  {
   "cell_type": "code",
   "execution_count": null,
   "id": "001478af-a1c3-42c7-aaae-288b3b5c88cd",
   "metadata": {},
   "outputs": [],
   "source": [
    "t1_start = time.time() \n",
    "t2_start = process_time()"
   ]
  },
  {
   "cell_type": "code",
   "execution_count": null,
   "id": "d24d1aec-b9f7-4373-a50e-768224b7d2d8",
   "metadata": {},
   "outputs": [],
   "source": [
    "x_train = torch.tensor(x_train.values).to(torch.float)\n",
    "x_test = torch.tensor(x_test.values).to(torch.float)"
   ]
  },
  {
   "cell_type": "raw",
   "id": "2c4314a4-cffb-4c2e-a529-77d03592e0dc",
   "metadata": {},
   "source": [
    "perform polynomial transformations on Y\n",
    "- if m=1, just use original Y as output\n",
    "- if m>1, we standardize Y, calculate Y^k for k=1,...,m, and standardize each dimension again"
   ]
  },
  {
   "cell_type": "code",
   "execution_count": null,
   "id": "d7e697bc-636d-49ab-9924-3e644a6d1b90",
   "metadata": {},
   "outputs": [],
   "source": [
    "if m==1:\n",
    "    y_train = torch.tensor(y_train.values).to(torch.float)\n",
    "    y_test = torch.tensor(y_test.values).to(torch.float)\n",
    "else:\n",
    "    y_trans_train = (y_train - y_train.mean()) / y_train.std()\n",
    "    y_trans_test = (y_test - y_train.mean()) / y_train.std()\n",
    "    for i in range(2,m+1):\n",
    "        y_train_intermediate=y_train**i/math.factorial(i)\n",
    "        y_test_intermediate=y_test**i/math.factorial(i)\n",
    "        y_test_intermediate = (y_test_intermediate - y_train_intermediate.mean()) / y_train_intermediate.std()\n",
    "        y_train_intermediate = (y_train_intermediate - y_train_intermediate.mean()) / y_train_intermediate.std()\n",
    "        y_trans_train = np.concatenate((y_trans_train,y_train_intermediate), axis=1)\n",
    "        y_trans_test = np.concatenate((y_trans_test,y_test_intermediate), axis=1)\n",
    "    y_train = torch.tensor(y_trans_train).to(torch.float)\n",
    "    y_test = torch.tensor(y_trans_test).to(torch.float)"
   ]
  },
  {
   "cell_type": "raw",
   "id": "2b0394b5-d982-4082-a43c-230e8c114607",
   "metadata": {},
   "source": [
    "define the class of neural network\n",
    "- two parts: \n",
    "    - dimension reduction network \n",
    "    - ensemble regression network\n",
    "- outputs of both parts are returned: \n",
    "    - dimension reduction part for sufficient predictor\n",
    "    - ensemble regression prat for loss calculation and optimization"
   ]
  },
  {
   "cell_type": "code",
   "execution_count": null,
   "id": "f3ae4410-c3d2-42e3-bba0-eb8af88f21aa",
   "metadata": {},
   "outputs": [],
   "source": [
    "mse_loss = nn.MSELoss()\n",
    "class nn_dr_reg_model(nn.Module):\n",
    "    def __init__(self, input_features, output_features, dim_red_features, hidden_units_d, hidden_units_e, dim_red_layers, ens_reg_layers):\n",
    "        super().__init__()\n",
    "        ## dimension reduction network\n",
    "        model_dim_red=[]\n",
    "        model_dim_red.append(nn.Linear(in_features=input_features, \n",
    "                                    out_features=hidden_units_d))\n",
    "        model_dim_red.append(nn.ReLU())\n",
    "        for i in range(1,dim_red_layers):\n",
    "            model_dim_red.append(nn.Linear(in_features=hidden_units_d, \n",
    "                                        out_features=hidden_units_d))\n",
    "            model_dim_red.append(nn.ReLU())\n",
    "        model_dim_red.append(nn.Linear(in_features=hidden_units_d, \n",
    "                                    out_features=dim_red_features))\n",
    "        self.dim_red_layer_stack = nn.Sequential(*model_dim_red)\n",
    "\n",
    "        ## ensemble regression network\n",
    "        model_ens_reg=[]\n",
    "        model_ens_reg.append(nn.Linear(in_features=dim_red_features, out_features=hidden_units_e))\n",
    "        model_ens_reg.append(nn.ReLU())\n",
    "        for i in range(1,ens_reg_layers):\n",
    "            model_ens_reg.append(nn.Linear(in_features=hidden_units_e, out_features=hidden_units_e))\n",
    "            model_ens_reg.append(nn.ReLU())\n",
    "        model_ens_reg.append(nn.Linear(in_features=hidden_units_e, out_features=output_features))\n",
    "        self.ens_reg_layer_stack = nn.Sequential(*model_ens_reg)\n",
    "\n",
    "    def forward(self, x):\n",
    "        suff_predictor = self.dim_red_layer_stack(x)\n",
    "        ens_output = self.ens_reg_layer_stack(suff_predictor)\n",
    "        return ens_output, suff_predictor"
   ]
  },
  {
   "cell_type": "raw",
   "id": "79e6498a-b783-4c6e-aaa4-9d7ab9a3b36d",
   "metadata": {},
   "source": [
    "neural network structures\n",
    "- input dimension: p\n",
    "- dimension of belt (sufficient predictors): res_d\n",
    "- output dimension: m\n",
    "- depth of dimension reduction network: l1\n",
    "- depth of ensemble regression network: l2\n",
    "- width of dimension reduction network: r1\n",
    "- width of ensemble regression network: r2"
   ]
  },
  {
   "cell_type": "code",
   "execution_count": null,
   "id": "a3108c30-688f-464e-828e-95a1825404ef",
   "metadata": {},
   "outputs": [],
   "source": [
    "optimizer = torch.optim.Adam(model_nn.parameters(), \n",
    "                            lr=0.001)\n",
    "epochs = 50   ## number of epoches can be modified based on loss changes \n",
    "x_train, y_train = x_train.to(device), y_train.to(device)\n",
    "x_test = x_test.to(device)\n",
    "for epoch in range(epochs):\n",
    "    ### Training\n",
    "    model_nn.train()\n",
    "    y_pred_train, y_suff_train = model_nn(x_train) \n",
    "    loss = mse_loss(y_pred_train, y_train) \n",
    "    optimizer.zero_grad()\n",
    "    loss.backward()\n",
    "    optimizer.step()\n",
    "\n",
    "    ### Testing\n",
    "    model_nn.eval()\n",
    "    y_pred_test, y_suff_test = model_nn(x_test)\n",
    "    loss_test = mse_loss(y_pred_test, y_test) \n",
    "    # remove the following line if there is no z_test or no evaluation is required\n",
    "    dcor_test = dcor.distance_correlation(np.float64(y_suff_test.detach().numpy()),np.float64(z_test))\n",
    "\n",
    "    if epoch % 25 == 24:\n",
    "        print(f\"Epoch: {epoch} | Loss: {loss:.5f} | Test Loss: {loss_test:.5f}\")\n",
    "        now = datetime.now()\n",
    "        current_time = now.strftime(\"%H:%M:%S\")\n",
    "        print(\"Current Time =\", current_time)\n",
    "model_nn.eval()\n",
    "with torch.inference_mode():\n",
    "    y_pred_test, y_suff_test = model_nn(x_test)"
   ]
  },
  {
   "cell_type": "code",
   "execution_count": null,
   "id": "a99db8dd-f131-426f-b7c4-184aa5d058df",
   "metadata": {},
   "outputs": [],
   "source": [
    "t1_stop = time.time() \n",
    "t2_stop = process_time()"
   ]
  },
  {
   "cell_type": "code",
   "execution_count": null,
   "id": "f5fcc0fd-ba04-444f-8a76-4292fa7832a2",
   "metadata": {},
   "outputs": [],
   "source": [
    "## save sufficient predictors (path requires modification)\n",
    "y_suff_test=y_suff_test.numpy()\n",
    "y_suff_test_df=pd.DataFrame(y_suff_test)\n",
    "y_suff_test_df.to_csv(\"./results-BENN-unified-std/result-\" + str(model1) + \"-\" + str(model2) + \"-\" + str(m) + \"-\" + str(n) + \"/y_suff_\" + str(t) + \".csv\")"
   ]
  },
  {
   "cell_type": "code",
   "execution_count": null,
   "id": "09ff56f6-b414-42f4-a7a4-40ea3dff0475",
   "metadata": {},
   "outputs": [],
   "source": [
    "## save running times (path requires modification)\n",
    "time_use=[t1_stop-t1_start,t2_stop-t2_start]\n",
    "time_use_df=pd.DataFrame(time_use)\n",
    "time_use_df.to_csv(\"./results-BENN-unified-std/result-\" + str(model1) + \"-\" + str(model2) + \"-\" + str(m) + \"-\" + str(n) + \"/time_\" + str(t) + \".csv\")"
   ]
  }
 ],
 "metadata": {
  "kernelspec": {
   "display_name": "PyTorch_conda",
   "language": "python",
   "name": "torch_env"
  },
  "language_info": {
   "codemirror_mode": {
    "name": "ipython",
    "version": 3
   },
   "file_extension": ".py",
   "mimetype": "text/x-python",
   "name": "python",
   "nbconvert_exporter": "python",
   "pygments_lexer": "ipython3",
   "version": "3.11.5"
  }
 },
 "nbformat": 4,
 "nbformat_minor": 5
}
